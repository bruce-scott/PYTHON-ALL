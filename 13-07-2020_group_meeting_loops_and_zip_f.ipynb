{
 "cells": [
  {
   "cell_type": "code",
   "execution_count": null,
   "metadata": {
    "tags": []
   },
   "outputs": [],
   "source": [
    "# Verilen sözlüğün içindeki keys ve values leri > verilen listeye outputtaki şekilde tuple olarak ekleyecek kodu hem for döngüsü ile hem de while döngüsü ile çözmeye çalışalım. (edited) \n",
    "# verilen\n",
    "# tdict={\"top\":50, \"balon\":100, \"ucurtma\":40, \"bisiklet\":50}\n",
    "# tlist=[(\"gofret\",200)]\n",
    "# output =\n",
    "#  [('gofret', 200), ('top', 50), ('balon', 100), ('ucurtma', 40), ('bisiklet', 50)]\n",
    "\n",
    "tdict={\"top\":50, \"balon\":100, \"ucurtma\":40, \"bisiklet\":50}\n",
    "tlist=[(\"gofret\",200)]\n"
   ]
  },
  {
   "cell_type": "code",
   "execution_count": null,
   "metadata": {},
   "outputs": [],
   "source": [
    "####### Vowel to Vowel Links ##########\n",
    "#edabit -- https://edabit.com/challenge/PxxZprxCjDrzaTcLQ  ---\n",
    "# Given a sentence as txt, return True if any two adjacent words have this property: One word ends with a vowel, while the word immediately after begins with a vowel.\n",
    "# Examples\n",
    "# vowel_links(\"a very large appliance\") ➞ True\n",
    "# vowel_links(\"go to edabit\") ➞ True\n",
    "# vowel_links(\"an open fire\") ➞ False\n",
    "# vowel_links(\"a sudden applause\") ➞ False\n",
    "def vowel_links(txt):"
   ]
  },
  {
   "cell_type": "code",
   "execution_count": 1,
   "metadata": {
    "tags": []
   },
   "outputs": [
    {
     "output_type": "stream",
     "name": "stdout",
     "text": "(1, 'a', 1) (2, 'b', 2) (3, 'c', 3) (4, 'd', 4)\n"
    }
   ],
   "source": [
    "list1 = [1,2,3,4,5,6,7,8,9,10]\n",
    "list2 = [\"a\",\"b\",\"c\",\"d\"]\n",
    "list3 = [1,2,3,4,5,6]\n",
    "print(*zip(list1,list2,list3))"
   ]
  },
  {
   "cell_type": "code",
   "execution_count": 2,
   "metadata": {
    "tags": []
   },
   "outputs": [
    {
     "output_type": "stream",
     "name": "stdout",
     "text": "10\n100\n"
    }
   ],
   "source": [
    "first_counter = 0\n",
    "second_counter = 0\n",
    "for i in range(10):\n",
    "    first_counter += 1\n",
    "    for a in range(10):\n",
    "        second_counter += 1\n",
    "print(first_counter)\n",
    "print(second_counter)"
   ]
  },
  {
   "cell_type": "code",
   "execution_count": 3,
   "metadata": {
    "tags": []
   },
   "outputs": [
    {
     "output_type": "stream",
     "name": "stdout",
     "text": "{'a': 1, 'b': 2, 'c': 3, 'd': 4}\n"
    }
   ],
   "source": [
    "adict = {\"a\":1, \"b\":2}\n",
    "bdict = {\"c\":3, \"d\":4}\n",
    "cdict = {**adict, **bdict}\n",
    "print(cdict)"
   ]
  },
  {
   "cell_type": "code",
   "execution_count": 4,
   "metadata": {},
   "outputs": [
    {
     "output_type": "execute_result",
     "data": {
      "text/plain": "{'a': 1, 'b': 2, 'c': 3, 'd': 4}"
     },
     "metadata": {},
     "execution_count": 4
    }
   ],
   "source": [
    "dict(zip((list(adict.keys())+list(bdict.keys())),(list(adict.values())+list(bdict.values()))))"
   ]
  },
  {
   "cell_type": "code",
   "execution_count": null,
   "metadata": {},
   "outputs": [],
   "source": []
  },
  {
   "cell_type": "code",
   "execution_count": null,
   "metadata": {},
   "outputs": [],
   "source": []
  },
  {
   "cell_type": "code",
   "execution_count": null,
   "metadata": {},
   "outputs": [],
   "source": []
  },
  {
   "cell_type": "code",
   "execution_count": 5,
   "metadata": {
    "tags": []
   },
   "outputs": [
    {
     "output_type": "stream",
     "name": "stdout",
     "text": "var\nvar\n"
    }
   ],
   "source": [
    "list=[1,2,3,4,1]\n",
    "while 1 in list:\n",
    "    print(\"var\")\n",
    "    list.remove(1)"
   ]
  },
  {
   "cell_type": "code",
   "execution_count": 6,
   "metadata": {
    "tags": []
   },
   "outputs": [
    {
     "output_type": "stream",
     "name": "stdout",
     "text": "[('gofret', 200), ('top', 50), ('balon', 100), ('ucurtma', 40), ('bisiklet', 50)]\n"
    }
   ],
   "source": [
    "tdict={\"top\":50, \"balon\":100, \"ucurtma\":40, \"bisiklet\":50}\n",
    "tlist=[(\"gofret\",200)]\n",
    "for i in tdict:\n",
    "    tlist.append((i,tdict[i]))\n",
    "print(tlist)"
   ]
  },
  {
   "cell_type": "code",
   "execution_count": null,
   "metadata": {
    "tags": []
   },
   "outputs": [],
   "source": [
    "tdict={\"top\":50, \"balon\":100, \"ucurtma\":40, \"bisiklet\":50}\n",
    "tlist = [(\"gofret\",200)]\n",
    "a = 0\n",
    "while a < len(tdict):\n",
    "    tlist.append((list(tdict.keys())[a],list(tdict.values())[a]))\n",
    "    a =a+1\n",
    "print(tlist)"
   ]
  },
  {
   "cell_type": "code",
   "execution_count": null,
   "metadata": {
    "tags": []
   },
   "outputs": [],
   "source": [
    "tdict={\"top\":50, \"balon\":100, \"ucurtma\":40, \"bisiklet\":50}\n",
    "tlist=[(\"gofret\",200)]\n",
    "print(list(tdict.keys()))\n",
    "print(list(tdict.values()))\n",
    "a=list(tdict.keys())\n",
    "b=list(tdict.values())\n",
    "print(list(zip(a,b))+tlist)\n",
    "print(list(zip(list(tdict.keys()),tdict.values()))+tlist)\n"
   ]
  },
  {
   "cell_type": "code",
   "execution_count": null,
   "metadata": {
    "tags": []
   },
   "outputs": [],
   "source": [
    "#######Vowel to Vowel Links##########\n",
    "#edabit -- https://edabit.com/challenge/PxxZprxCjDrzaTcLQ  ---\n",
    "# Given a sentence as txt, return True if any two adjacent words have this property: One word ends with a vowel, while the word immediately after begins with a vowel.\n",
    "# Examples\n",
    "# vowel_links(\"a very large appliance\") ➞ True\n",
    "# vowel_links(\"go to edabit\") ➞ True\n",
    "# vowel_links(\"an open fire\") ➞ False\n",
    "# vowel_links(\"a sudden applause\") ➞ False\n",
    "def vowel_links(txt):\n",
    "    vowel=[\"a\",\"e\",\"i\",\"o\",\"u\"]\n",
    "    ltxt=txt.split()\n",
    "    tflist=[]\n",
    "    for i in range(len(ltxt)-1):\n",
    "        if ltxt[i][-1] in vowel and ltxt[i+1][0] in vowel :\n",
    "            tflist.append(\"True\")\n",
    "    if \"True\" in tflist:\n",
    "        return True\n",
    "    else:\n",
    "        return False\n",
    "       \n",
    "            \n",
    "print(vowel_links(\"a very large appliance\"))\n",
    "print(vowel_links(\"go to edabit\"))\n",
    "print(vowel_links(\"an open fire\"))\n",
    "print(vowel_links(\"a sudden applause\"))"
   ]
  },
  {
   "cell_type": "code",
   "execution_count": null,
   "metadata": {
    "tags": []
   },
   "outputs": [],
   "source": [
    "import re\n",
    "def vowel_links(txt):\n",
    "\treturn bool(re.findall('[aeiou] [aeiou]', txt))\n",
    "print(vowel_links(\"a very large appliance\"))\n",
    "print(vowel_links(\"go to edabit\"))"
   ]
  },
  {
   "cell_type": "code",
   "execution_count": null,
   "metadata": {
    "tags": []
   },
   "outputs": [],
   "source": [
    "coordinate = ['x', 'y', 'z']\n",
    "value = [3, 4, 5]\n",
    "\n",
    "result = zip(coordinate, value)\n",
    "# result_list = list(result)\n",
    "# print(*result_list)\n",
    "\n",
    "# c, v =  zip(*result_list)\n",
    "# print('c =', c)\n",
    "# print('v =', v)\n",
    "next(result)"
   ]
  },
  {
   "cell_type": "code",
   "execution_count": null,
   "metadata": {
    "tags": []
   },
   "outputs": [],
   "source": [
    "zipped = zip(range(3), 'ABCD')\n",
    "print(*zipped)\n",
    "\n"
   ]
  },
  {
   "cell_type": "code",
   "execution_count": null,
   "metadata": {
    "tags": []
   },
   "outputs": [],
   "source": [
    "letters = ['a', 'b', 'c']\n",
    "numbers = [0, 1, 2]\n",
    "for l, n in zip(letters, numbers):\n",
    "    print(f'Letter: {l}')\n",
    "    print(f'Number: {n}')"
   ]
  },
  {
   "cell_type": "code",
   "execution_count": null,
   "metadata": {
    "tags": []
   },
   "outputs": [],
   "source": [
    "dict_one = {'name': 'John', 'last_name': 'Doe', 'job': 'Python Consultant'}\n",
    "dict_two = {'name': 'Jane', 'last_name': 'Doe', 'job': 'Community Manager'}\n",
    "for (k1, v1), (k2, v2) in zip(dict_one.items(), dict_two.items()):\n",
    "    print(k1, '->', v1)\n",
    "    print(k2, '->', v2)"
   ]
  },
  {
   "cell_type": "code",
   "execution_count": null,
   "metadata": {},
   "outputs": [],
   "source": [
    "dict_one.items()"
   ]
  },
  {
   "cell_type": "code",
   "execution_count": null,
   "metadata": {
    "tags": []
   },
   "outputs": [],
   "source": [
    "pairs = [(1, 'a'), (2, 'b'), (3, 'c'), (4, 'd')]\n",
    "numbers, letters = zip(*pairs)\n",
    "print(numbers)\n",
    "print(letters)\n"
   ]
  },
  {
   "cell_type": "code",
   "execution_count": null,
   "metadata": {
    "tags": []
   },
   "outputs": [],
   "source": [
    "total_sales = [52000.00, 51000.00, 48000.00]\n",
    "prod_cost = [46800.00, 45900.00, 43200.00]\n",
    "for sales, costs in zip(total_sales, prod_cost):\n",
    "     profit = sales - costs\n",
    "     print(f'Total profit: {profit}')\n"
   ]
  },
  {
   "cell_type": "code",
   "execution_count": null,
   "metadata": {},
   "outputs": [],
   "source": [
    "fields = ['name', 'last_name', 'age', 'job']\n",
    "values = ['John', 'Doe', '45', 'Python Developer']\n",
    "a_dict = dict(zip(fields, values))\n",
    "a_dict"
   ]
  },
  {
   "cell_type": "code",
   "execution_count": null,
   "metadata": {},
   "outputs": [],
   "source": [
    "new_job = ['Python Consultant']\n",
    "field = ['job']\n",
    "a_dict.update(zip(field, new_job))\n",
    "a_dict"
   ]
  },
  {
   "cell_type": "code",
   "execution_count": null,
   "metadata": {},
   "outputs": [],
   "source": [
    "dict(zip((list(adict.keys())+list(bdict.keys())),(list(adict.values())+list(bdict.values()))))"
   ]
  },
  {
   "cell_type": "code",
   "execution_count": null,
   "metadata": {},
   "outputs": [],
   "source": [
    "list1 = [1,2,3,4,5,6,7,8,9,10]\n",
    "list2 = [\"a\",\"b\",\"c\",\"d\"]\n",
    "print(*zip(list1,list1))\n",
    "print(*zip(list1,list2))\n",
    "print(zip(list2,list1))\n",
    "print(dict(zip(list2,list1)))\n",
    "print(dict(zip(list1,list1)))\n",
    "print((list(zip(list1,list1))))\n",
    "for i in zip(list2,list1):\n",
    "    print(i,type(i))\n",
    "for i in zip([list2,list1]):\n",
    "    print(i,type(i))\n",
    "print(*zip([list2,list1]))\n",
    "print(*zip(list2,list1))\n",
    "print(zip(list2))"
   ]
  }
 ],
 "metadata": {
  "language_info": {
   "codemirror_mode": {
    "name": "ipython",
    "version": 3
   },
   "file_extension": ".py",
   "mimetype": "text/x-python",
   "name": "python",
   "nbconvert_exporter": "python",
   "pygments_lexer": "ipython3",
   "version": "3.8.2-final"
  },
  "orig_nbformat": 2,
  "kernelspec": {
   "name": "python38232bitc79a2500f922491896e14cc783901c2d",
   "display_name": "Python 3.8.2 32-bit"
  }
 },
 "nbformat": 4,
 "nbformat_minor": 2
}