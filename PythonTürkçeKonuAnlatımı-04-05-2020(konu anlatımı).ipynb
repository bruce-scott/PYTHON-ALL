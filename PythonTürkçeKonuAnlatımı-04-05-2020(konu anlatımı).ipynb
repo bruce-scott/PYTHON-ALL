{
 "cells": [
  {
   "cell_type": "markdown",
   "metadata": {},
   "source": [
    "# 4 - 5 - 2020 Pazartesi Python Türkçe Konu Anlatımı"
   ]
  },
  {
   "cell_type": "code",
   "execution_count": 1,
   "metadata": {},
   "outputs": [],
   "source": [
    "L = [\"right 20\", \"right 30\", \"left 50\", \"up 10\", \"down 20\", \"left 10\"]\n",
    "# [0, 10]"
   ]
  },
  {
   "cell_type": "code",
   "execution_count": 2,
   "metadata": {},
   "outputs": [
    {
     "output_type": "execute_result",
     "data": {
      "text/plain": "[-10, -10]"
     },
     "metadata": {},
     "execution_count": 2
    }
   ],
   "source": [
    "x = y = 0\n",
    "\n",
    "for ii in range(len(L)):\n",
    "    if L[ii].startswith(\"r\") : x = x + int(L[ii].split(\" \")[1])\n",
    "    elif L[ii].startswith(\"l\") : x = x - int(L[ii].split(\" \")[1])\n",
    "    elif L[ii].startswith(\"u\") : y = y + int(L[ii].split(\" \")[1])\n",
    "    elif L[ii].startswith(\"d\") : y = y - int(L[ii].split(\" \")[1])\n",
    "[x, y]"
   ]
  },
  {
   "cell_type": "code",
   "execution_count": 5,
   "metadata": {},
   "outputs": [
    {
     "output_type": "stream",
     "name": "stdout",
     "text": "True\n"
    }
   ],
   "source": [
    "kelime = input(\"sesli harfle başlayıp sesli harfle biten bir kelime girin\")\n",
    "\n",
    "print(kelime.startswith((\"a\", \"e\", \"o\", \"u\", \"i\")) and kelime.endswith((\"a\", \"e\", \"o\", \"u\", \"i\")))"
   ]
  },
  {
   "cell_type": "code",
   "execution_count": null,
   "metadata": {},
   "outputs": [],
   "source": [
    "\"string\".endswith()"
   ]
  },
  {
   "cell_type": "code",
   "execution_count": 6,
   "metadata": {},
   "outputs": [
    {
     "output_type": "execute_result",
     "data": {
      "text/plain": "[1, 4, 900, 1600, 2500, 3600, 4900, 6400, 8100]"
     },
     "metadata": {},
     "execution_count": 6
    }
   ],
   "source": [
    "my_list = [1, 2, 30, 40, 50, 60, 70, 80, 90]\n",
    "\n",
    "list_kare = [x**2 for x in my_list]\n",
    "list_kare"
   ]
  },
  {
   "cell_type": "code",
   "execution_count": 10,
   "metadata": {},
   "outputs": [
    {
     "output_type": "execute_result",
     "data": {
      "text/plain": "<generator object <genexpr> at 0x000001FAAAD4D7C8>"
     },
     "metadata": {},
     "execution_count": 10
    }
   ],
   "source": [
    "genere = (x**2 for x in my_list)\n",
    "genere"
   ]
  },
  {
   "cell_type": "code",
   "execution_count": 8,
   "metadata": {},
   "outputs": [
    {
     "output_type": "stream",
     "name": "stdout",
     "text": "1\n4\n900\n1600\n2500\n3600\n4900\n6400\n8100\n"
    }
   ],
   "source": [
    "for i in genere:\n",
    "    print(i)"
   ]
  },
  {
   "cell_type": "code",
   "execution_count": 9,
   "metadata": {},
   "outputs": [
    {
     "output_type": "stream",
     "name": "stdout",
     "text": "192\n120\n"
    }
   ],
   "source": [
    "import sys\n",
    "print(sys.getsizeof(list_kare))\n",
    "print(sys.getsizeof(genere))"
   ]
  },
  {
   "cell_type": "code",
   "execution_count": 11,
   "metadata": {},
   "outputs": [
    {
     "output_type": "stream",
     "name": "stdout",
     "text": "1\n"
    }
   ],
   "source": [
    "print(next(genere))"
   ]
  },
  {
   "cell_type": "code",
   "execution_count": 12,
   "metadata": {},
   "outputs": [
    {
     "output_type": "stream",
     "name": "stdout",
     "text": "4\n"
    }
   ],
   "source": [
    "print(next(genere))"
   ]
  },
  {
   "cell_type": "code",
   "execution_count": 13,
   "metadata": {},
   "outputs": [
    {
     "output_type": "stream",
     "name": "stdout",
     "text": "900\n"
    }
   ],
   "source": [
    "print(next(genere))"
   ]
  },
  {
   "cell_type": "code",
   "execution_count": 14,
   "metadata": {},
   "outputs": [
    {
     "output_type": "stream",
     "name": "stdout",
     "text": "1600\n"
    }
   ],
   "source": [
    "print(next(genere))"
   ]
  },
  {
   "cell_type": "code",
   "execution_count": 15,
   "metadata": {},
   "outputs": [
    {
     "output_type": "execute_result",
     "data": {
      "text/plain": "<zip at 0x1faaca3cb48>"
     },
     "metadata": {},
     "execution_count": 15
    }
   ],
   "source": [
    "list1 = [\"ahmet\", \"mehmet\", \"cemal\"]\n",
    "list2 = [22, 33, 44]\n",
    "\n",
    "gene = zip(list1, list2)\n",
    "\n",
    "gene"
   ]
  },
  {
   "cell_type": "code",
   "execution_count": 16,
   "metadata": {},
   "outputs": [
    {
     "output_type": "stream",
     "name": "stdout",
     "text": "('ahmet', 22)\n"
    }
   ],
   "source": [
    "print(next(gene))"
   ]
  },
  {
   "cell_type": "code",
   "execution_count": 17,
   "metadata": {},
   "outputs": [
    {
     "output_type": "stream",
     "name": "stdout",
     "text": "('mehmet', 33)\n"
    }
   ],
   "source": [
    "print(next(gene))"
   ]
  },
  {
   "cell_type": "code",
   "execution_count": 22,
   "metadata": {},
   "outputs": [
    {
     "output_type": "execute_result",
     "data": {
      "text/plain": "<enumerate at 0x1faaa7059d8>"
     },
     "metadata": {},
     "execution_count": 22
    }
   ],
   "source": [
    "gene_enum = enumerate(list1)\n",
    "\n",
    "gene_enum"
   ]
  },
  {
   "cell_type": "code",
   "execution_count": 19,
   "metadata": {},
   "outputs": [
    {
     "output_type": "stream",
     "name": "stdout",
     "text": "(0, 'ahmet')\n"
    }
   ],
   "source": [
    "print(next(gene_enum))"
   ]
  },
  {
   "cell_type": "code",
   "execution_count": 20,
   "metadata": {},
   "outputs": [
    {
     "output_type": "stream",
     "name": "stdout",
     "text": "(1, 'mehmet')\n"
    }
   ],
   "source": [
    "print(next(gene_enum))"
   ]
  },
  {
   "cell_type": "code",
   "execution_count": 23,
   "metadata": {},
   "outputs": [
    {
     "output_type": "stream",
     "name": "stdout",
     "text": "(0, 'ahmet')\n(1, 'mehmet')\n(2, 'cemal')\n"
    }
   ],
   "source": [
    "for i in gene_enum:\n",
    "    print(i)"
   ]
  },
  {
   "cell_type": "code",
   "execution_count": 24,
   "metadata": {},
   "outputs": [
    {
     "output_type": "error",
     "ename": "StopIteration",
     "evalue": "",
     "traceback": [
      "\u001b[1;31m---------------------------------------------------------------------------\u001b[0m",
      "\u001b[1;31mStopIteration\u001b[0m                             Traceback (most recent call last)",
      "\u001b[1;32m<ipython-input-24-9da4356d8bd8>\u001b[0m in \u001b[0;36m<module>\u001b[1;34m\u001b[0m\n\u001b[1;32m----> 1\u001b[1;33m \u001b[0mprint\u001b[0m\u001b[1;33m(\u001b[0m\u001b[0mnext\u001b[0m\u001b[1;33m(\u001b[0m\u001b[0mgene_enum\u001b[0m\u001b[1;33m)\u001b[0m\u001b[1;33m)\u001b[0m\u001b[1;33m\u001b[0m\u001b[1;33m\u001b[0m\u001b[0m\n\u001b[0m",
      "\u001b[1;31mStopIteration\u001b[0m: "
     ]
    }
   ],
   "source": [
    "print(next(gene_enum))"
   ]
  },
  {
   "cell_type": "code",
   "execution_count": 28,
   "metadata": {},
   "outputs": [
    {
     "output_type": "stream",
     "name": "stdout",
     "text": "1 is not a prime\n"
    }
   ],
   "source": [
    "n = int(input(\"enter a number to check if it is a prime:\"))\n",
    "\n",
    "count = 0\n",
    "for i in range(1, n+1):\n",
    "    if n%i == 0: count +=1\n",
    "if count == 2 : print(n, \"is a prime\")\n",
    "else : print(n, \"is not a prime\")   "
   ]
  },
  {
   "cell_type": "code",
   "execution_count": 31,
   "metadata": {},
   "outputs": [
    {
     "output_type": "stream",
     "name": "stdout",
     "text": "[1, 1, 2, 3, 5, 8, 13, 21, 34, 55]\n"
    }
   ],
   "source": [
    "# [1,1,2,3,5,8,13]\n",
    "\n",
    "nn = int(input(\"enter a limit number of fibonacci list element\"))\n",
    "\n",
    "fibo = [1, 1]\n",
    "for i in range(nn-2):\n",
    "    fibo.append(fibo[i] + fibo[i+1])\n",
    "print(fibo)   "
   ]
  },
  {
   "cell_type": "code",
   "execution_count": 32,
   "metadata": {},
   "outputs": [
    {
     "output_type": "stream",
     "name": "stdout",
     "text": "[1, 1, 2, 3, 5, 8, 13, 21, 34, 55]\n"
    }
   ],
   "source": [
    "x, y = 0,1\n",
    "z = []\n",
    "for i in range(10):\n",
    "    x, y = y, x + y\n",
    "    z.append(x)\n",
    "print(z)"
   ]
  },
  {
   "cell_type": "code",
   "execution_count": 34,
   "metadata": {},
   "outputs": [
    {
     "output_type": "stream",
     "name": "stdout",
     "text": "[2, 3, 5, 7, 11, 13, 17, 19]\n"
    }
   ],
   "source": [
    "prime = []\n",
    "\n",
    "nnn = int(input(\"enter a limit number :\"))\n",
    "\n",
    "for num in range(2, nnn+1):\n",
    "    status = True\n",
    "    for i in range(2, num):\n",
    "        if num % i == 0: status = False\n",
    "    if status:\n",
    "        prime.append(num)\n",
    "\n",
    "print(prime)"
   ]
  },
  {
   "cell_type": "code",
   "execution_count": null,
   "metadata": {},
   "outputs": [],
   "source": []
  }
 ],
 "metadata": {
  "language_info": {
   "codemirror_mode": {
    "name": "ipython",
    "version": 3
   },
   "file_extension": ".py",
   "mimetype": "text/x-python",
   "name": "python",
   "nbconvert_exporter": "python",
   "pygments_lexer": "ipython3",
   "version": "3.8.2-final"
  },
  "orig_nbformat": 2,
  "kernelspec": {
   "name": "python3",
   "display_name": "Python 3"
  }
 },
 "nbformat": 4,
 "nbformat_minor": 2
}