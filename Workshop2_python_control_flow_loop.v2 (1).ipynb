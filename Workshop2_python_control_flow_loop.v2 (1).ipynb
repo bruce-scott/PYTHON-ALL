{
 "cells": [
  {
   "cell_type": "markdown",
   "metadata": {},
   "source": [
    "SORU:1\n",
    "Aldığınız kursun adına göre IT alanında meslek sahibi olup olamayacağınızı ekrana yazdıran bir kod yazınız."
   ]
  },
  {
   "cell_type": "code",
   "execution_count": null,
   "metadata": {},
   "outputs": [],
   "source": [
    "course = input('Course name:').upper().strip()\n",
    "\n",
    "if course == 'CLARUSWAY':\n",
    "    print('For sure u r gonna be an IT Guy')\n",
    "else:\n",
    "    print('Think again.')"
   ]
  },
  {
   "cell_type": "markdown",
   "metadata": {
    "jupyter": {
     "source_hidden": true
    }
   },
   "source": []
  },
  {
   "cell_type": "markdown",
   "metadata": {},
   "source": [
    "SORU:2\n",
    "Alınan ağırlık değerine göre ağırlığı kaldırıp kaldıramayacağınızı ekrana yazdıran bir kod yazınız"
   ]
  },
  {
   "cell_type": "code",
   "execution_count": null,
   "metadata": {
    "tags": []
   },
   "outputs": [],
   "source": [
    "weight = int(input(\"ağırlığını giriniz:\"))\n",
    "if weight > 100:\n",
    "    print(\"That's too heavy!\")\n",
    "elif weight > 75:\n",
    "    print(\"I can lift that!\")\n",
    "else:\n",
    "    print(\"That's too light!\")"
   ]
  },
  {
   "cell_type": "code",
   "execution_count": null,
   "metadata": {},
   "outputs": [],
   "source": [
    "# When we use 'if' instead of 'elif' our \n",
    "#logic won't function as we expected. \n",
    "\n",
    "weight = int(input('weight: '))\n",
    "if weight > 100:\n",
    "    print('too heavy')\n",
    "if weight > 75:\n",
    "    print('I can lift it')\n",
    "else:\n",
    "    print('piece of cake')"
   ]
  },
  {
   "cell_type": "markdown",
   "metadata": {},
   "source": [
    "SORU:3 Girilen sayının pozitif, negatif, ya da 0 olduğunu bulan kodu yazınız."
   ]
  },
  {
   "cell_type": "code",
   "execution_count": null,
   "metadata": {
    "tags": []
   },
   "outputs": [],
   "source": [
    "sayi = input('Sayı : ')\n",
    "\n",
    "if(int(sayi)<0):\n",
    "      print(\"Sayı Negatif\")\n",
    "elif(int(sayi)>0):\n",
    "      print(\"Sayı Pozitif\")\n",
    "else:\n",
    "      print(\"Sayı Sıfır\")"
   ]
  },
  {
   "cell_type": "code",
   "execution_count": null,
   "metadata": {
    "tags": []
   },
   "outputs": [],
   "source": [
    "        \n",
    "num = float(input('number: '))\n",
    "if num > 0:\n",
    "    print(f'{num} is a positive number')\n",
    "elif num == 0:\n",
    "    print(f'{num} is zero') \n",
    "else:\n",
    "    print(f'{num} is a negative number') "
   ]
  },
  {
   "cell_type": "markdown",
   "metadata": {},
   "source": [
    "SORU:4\n",
    "Kişinin ad, kilo ve boy bilgilerini alıp kilo indekslerini hesaplayan python uygulamasını yapınız.\n",
    "\n",
    "Formül: (Kilo / boy uzunluğunun karesi)\n",
    "\n",
    "Aşağıdaki tabloya göre kişi hangi gruba girmektedir.\n",
    "\n",
    "0-18.4 => Zayıf\n",
    "\n",
    "18.5-24.9 => Normal\n",
    "\n",
    "25.0-29.9 => Fazla Kilolu\n",
    "\n",
    "30.0-34.9 => Şişman (Obez)Kişinin ad, kilo ve boy bilgilerini alıp kilo indekslerini hesaplayan python uygulamasını yapınız."
   ]
  },
  {
   "cell_type": "code",
   "execution_count": 6,
   "metadata": {
    "collapsed": true,
    "jupyter": {
     "outputs_hidden": true
    },
    "tags": []
   },
   "outputs": [],
   "source": [
    "name = input('adınız: ')\n",
    "kg = float(input('kilonuz kg.: '))\n",
    "hg = float(input('boyunuz mt.: '))\n",
    "\n",
    "index = (kg) / (hg ** 2)\n",
    "index=round(index,2)\n",
    "\n",
    "if (index >= 0) and (index<=18.4):\n",
    "   print(f'{name} kilo indeksin: {index} ve kilo değerlendirmen zayıf.')\n",
    "elif (index>18.4) and (index<=24.9):\n",
    "   print(f'{name} kilo indeksin: {index} ve kilo değerlendirmen normal.')\n",
    "elif (index>24.9) and (index<=29.9):\n",
    "   print(f'{name} kilo indeksin: {index} ve kilo değerlendirmen kilolu.')\n",
    "elif (index>=29.9) and (index<=45.9):\n",
    "   print(f'{name} kilo indeksin: {index} ve kilo değerlendirmen obez.')\n",
    "else:\n",
    "   print('bilgileriniz yanlış.')"
   ]
  },
  {
   "cell_type": "code",
   "execution_count": 6,
   "metadata": {
    "collapsed": true,
    "jupyter": {
     "outputs_hidden": true
    },
    "tags": []
   },
   "outputs": [
    {
     "name": "stdin",
     "output_type": "stream",
     "text": [
      "adınız:  OZKAN\n",
      "kilonuz kg.:  175\n",
      "boyunuz mt.:  176\n"
     ]
    },
    {
     "name": "stdout",
     "output_type": "stream",
     "text": [
      "OZKAN kilo indeksin: 0.01 ve kilo değerlendirmen zayıf.\n"
     ]
    }
   ],
   "source": [
    "name = input('Name: ')\n",
    "kg = float(input('Weight kg.: '))\n",
    "hg = float(input('Height mt.: '))\n",
    "\n",
    "index = (kg) / (hg ** 2)\n",
    "index = round(index, 2)\n",
    "\n",
    "if (index >= 0) and (index <= 18.4):\n",
    "    print(f'{name} kilo indeksin: {index} ve kilo değerlendirmen zayıf.')\n",
    "elif (index > 18.4 ) and (index <= 24.9):\n",
    "    print(f'{name} kilo indeksin: {index} ve kilo değerlendirmen normal.')\n",
    "elif (index > 24.9 ) and (index <= 29.9):\n",
    "    print(f'{name} kilo indeksin: {index} ve kilo değerlendirmen kilolu.')\n",
    "else:\n",
    "    print(f'{name} kilo indeksin: {index} ve kilo değerlendirmen asiri kilolu.')"
   ]
  },
  {
   "cell_type": "markdown",
   "metadata": {},
   "source": [
    "SORU:5 Meyvelerden oluşan bir liste oluştur ve for kullanarak ekrana yazdır:"
   ]
  },
  {
   "cell_type": "code",
   "execution_count": 7,
   "metadata": {
    "collapsed": true,
    "jupyter": {
     "outputs_hidden": true
    },
    "tags": []
   },
   "outputs": [
    {
     "name": "stdout",
     "output_type": "stream",
     "text": [
      "elma\n",
      "armut\n",
      "karpuz\n"
     ]
    }
   ],
   "source": [
    "L = [\"elma\", \"armut\", \"karpuz\"]\n",
    "for s in L:\n",
    "    print(s)"
   ]
  },
  {
   "cell_type": "markdown",
   "metadata": {},
   "source": [
    "SORU:6  0 ile 10 arasındaki sayıları ve karelerini for kullanarak ekrana yazdır."
   ]
  },
  {
   "cell_type": "code",
   "execution_count": null,
   "metadata": {
    "tags": []
   },
   "outputs": [],
   "source": [
    "for x in range(11): \n",
    "    print(x, x**2)"
   ]
  },
  {
   "cell_type": "code",
   "execution_count": null,
   "metadata": {
    "tags": []
   },
   "outputs": [],
   "source": [
    "for i in range(11):\n",
    "    if i < 10:\n",
    "        print(f\"({i} = {i ** 2}) ,\", end = \" \") \n",
    "    else:\n",
    "        print(f\"({i} = {i ** 2})\")"
   ]
  },
  {
   "cell_type": "markdown",
   "metadata": {},
   "source": [
    "SORU:7 1 ile 10 arasında sayıları for kullanarak ekrana yazdır 5 i görünce döngüden çık."
   ]
  },
  {
   "cell_type": "code",
   "execution_count": 8,
   "metadata": {
    "collapsed": true,
    "jupyter": {
     "outputs_hidden": true
    },
    "tags": []
   },
   "outputs": [],
   "source": [
    "for i in range(1, 10):\n",
    "    if(i%5==0):\n",
    "        break\n",
    "print(i)"
   ]
  },
  {
   "cell_type": "code",
   "execution_count": 8,
   "metadata": {
    "collapsed": true,
    "jupyter": {
     "outputs_hidden": true
    },
    "tags": []
   },
   "outputs": [
    {
     "name": "stdout",
     "output_type": "stream",
     "text": [
      "5\n"
     ]
    }
   ],
   "source": [
    "for i in range(1,11):\n",
    "    if not i%5:\n",
    "        continue \n",
    "    else:\n",
    "        print(f\"{i}\")"
   ]
  },
  {
   "cell_type": "markdown",
   "metadata": {},
   "source": [
    "SORU:8 0 dan 10 a kadar olan tek sayıları for döngüsü kullanarak ekrana yazdır."
   ]
  },
  {
   "cell_type": "code",
   "execution_count": 10,
   "metadata": {
    "collapsed": true,
    "jupyter": {
     "outputs_hidden": true
    },
    "tags": []
   },
   "outputs": [
    {
     "name": "stdout",
     "output_type": "stream",
     "text": [
      "1\n",
      "3\n",
      "5\n",
      "7\n",
      "9\n"
     ]
    }
   ],
   "source": [
    "for x in range(10):\n",
    "    if x % 2 == 0:\n",
    "        continue\n",
    "    print(x)"
   ]
  },
  {
   "cell_type": "markdown",
   "metadata": {},
   "source": [
    "SORU:9 While döngüsü kullanarak sonsuz döngü örneği yazınız."
   ]
  },
  {
   "cell_type": "code",
   "execution_count": null,
   "metadata": {
    "tags": [
     "outputPrepend"
    ]
   },
   "outputs": [],
   "source": [
    "flag = 1 \n",
    "\n",
    "while (flag): \n",
    "    print (\"Flag degisken True degere sahiptir\")\n"
   ]
  },
  {
   "cell_type": "markdown",
   "metadata": {},
   "source": [
    "SORU:10 Girilen sayının faktoriyelini alan kodu for döngüsü kullanarak yazınız."
   ]
  },
  {
   "cell_type": "code",
   "execution_count": null,
   "metadata": {
    "tags": []
   },
   "outputs": [],
   "source": [
    "sonuc=1;\n",
    "sayi=input('Sayı giriniz: ')\n",
    "\n",
    "for i in range(1,int(sayi)+1):\n",
    "      sonuc*=i\n",
    "print(\"{} sayısının faktoriyeli : {}\".format(sayi,sonuc))"
   ]
  },
  {
   "cell_type": "markdown",
   "metadata": {},
   "source": [
    "SORU:11 for döngüsü kullanarak 1 den 10 a kadar çarpım tablosu oluşturunuz."
   ]
  },
  {
   "cell_type": "code",
   "execution_count": 12,
   "metadata": {
    "collapsed": true,
    "jupyter": {
     "outputs_hidden": true
    },
    "tags": []
   },
   "outputs": [
    {
     "name": "stdout",
     "output_type": "stream",
     "text": [
      "1 x 1 = 1\n",
      "1 x 2 = 2\n",
      "1 x 3 = 3\n",
      "1 x 4 = 4\n",
      "1 x 5 = 5\n",
      "1 x 6 = 6\n",
      "1 x 7 = 7\n",
      "1 x 8 = 8\n",
      "1 x 9 = 9\n",
      "1 x 10 = 10\n",
      "2 x 1 = 2\n",
      "2 x 2 = 4\n",
      "2 x 3 = 6\n",
      "2 x 4 = 8\n",
      "2 x 5 = 10\n",
      "2 x 6 = 12\n",
      "2 x 7 = 14\n",
      "2 x 8 = 16\n",
      "2 x 9 = 18\n",
      "2 x 10 = 20\n",
      "3 x 1 = 3\n",
      "3 x 2 = 6\n",
      "3 x 3 = 9\n",
      "3 x 4 = 12\n",
      "3 x 5 = 15\n",
      "3 x 6 = 18\n",
      "3 x 7 = 21\n",
      "3 x 8 = 24\n",
      "3 x 9 = 27\n",
      "3 x 10 = 30\n",
      "4 x 1 = 4\n",
      "4 x 2 = 8\n",
      "4 x 3 = 12\n",
      "4 x 4 = 16\n",
      "4 x 5 = 20\n",
      "4 x 6 = 24\n",
      "4 x 7 = 28\n",
      "4 x 8 = 32\n",
      "4 x 9 = 36\n",
      "4 x 10 = 40\n",
      "5 x 1 = 5\n",
      "5 x 2 = 10\n",
      "5 x 3 = 15\n",
      "5 x 4 = 20\n",
      "5 x 5 = 25\n",
      "5 x 6 = 30\n",
      "5 x 7 = 35\n",
      "5 x 8 = 40\n",
      "5 x 9 = 45\n",
      "5 x 10 = 50\n",
      "6 x 1 = 6\n",
      "6 x 2 = 12\n",
      "6 x 3 = 18\n",
      "6 x 4 = 24\n",
      "6 x 5 = 30\n",
      "6 x 6 = 36\n",
      "6 x 7 = 42\n",
      "6 x 8 = 48\n",
      "6 x 9 = 54\n",
      "6 x 10 = 60\n",
      "7 x 1 = 7\n",
      "7 x 2 = 14\n",
      "7 x 3 = 21\n",
      "7 x 4 = 28\n",
      "7 x 5 = 35\n",
      "7 x 6 = 42\n",
      "7 x 7 = 49\n",
      "7 x 8 = 56\n",
      "7 x 9 = 63\n",
      "7 x 10 = 70\n",
      "8 x 1 = 8\n",
      "8 x 2 = 16\n",
      "8 x 3 = 24\n",
      "8 x 4 = 32\n",
      "8 x 5 = 40\n",
      "8 x 6 = 48\n",
      "8 x 7 = 56\n",
      "8 x 8 = 64\n",
      "8 x 9 = 72\n",
      "8 x 10 = 80\n",
      "9 x 1 = 9\n",
      "9 x 2 = 18\n",
      "9 x 3 = 27\n",
      "9 x 4 = 36\n",
      "9 x 5 = 45\n",
      "9 x 6 = 54\n",
      "9 x 7 = 63\n",
      "9 x 8 = 72\n",
      "9 x 9 = 81\n",
      "9 x 10 = 90\n",
      "10 x 1 = 10\n",
      "10 x 2 = 20\n",
      "10 x 3 = 30\n",
      "10 x 4 = 40\n",
      "10 x 5 = 50\n",
      "10 x 6 = 60\n",
      "10 x 7 = 70\n",
      "10 x 8 = 80\n",
      "10 x 9 = 90\n",
      "10 x 10 = 100\n"
     ]
    }
   ],
   "source": [
    "for x in range(1,11):\n",
    "    for y in range(1,11):\n",
    "        print(x,\"x\", y,\"=\",x*y)"
   ]
  },
  {
   "cell_type": "markdown",
   "metadata": {},
   "source": [
    "SORU:12 for döngüsü kullanarak bir sözlüğün elemanlarını ekrana yazdırınız."
   ]
  },
  {
   "cell_type": "code",
   "execution_count": null,
   "metadata": {
    "tags": []
   },
   "outputs": [],
   "source": [
    "sözlük = {\"bir\":1,\"iki\":2,\"üç\":3,\"dört\":4} #yöntem1\n",
    "for eleman in sözlük:\n",
    "    print(eleman)"
   ]
  },
  {
   "cell_type": "code",
   "execution_count": null,
   "metadata": {
    "tags": []
   },
   "outputs": [],
   "source": [
    "sözlük = {\"bir\":1,\"iki\":2,\"üç\":3,\"dört\":4} #yöntem2\n",
    "for eleman in sözlük.keys():\n",
    "    print(eleman)"
   ]
  },
  {
   "cell_type": "code",
   "execution_count": null,
   "metadata": {
    "tags": []
   },
   "outputs": [],
   "source": [
    "sözlük = {\"bir\":1,\"iki\":2,\"üç\":3,\"dört\":4} #yöntem2\n",
    "for eleman in sözlük.values():\n",
    "    print(eleman)"
   ]
  },
  {
   "cell_type": "code",
   "execution_count": null,
   "metadata": {
    "tags": []
   },
   "outputs": [],
   "source": [
    "sözlük = {\"bir\":1,\"iki\":2,\"üç\":3,\"dört\":4} #yöntem2\n",
    "for eleman in sözlük.items():\n",
    "    print(eleman)"
   ]
  },
  {
   "cell_type": "markdown",
   "metadata": {},
   "source": [
    "SORU:13 Aşağıda verilen listenin tüm elemanlarını while döngüsü kullanarak ekrana yazdırınız."
   ]
  },
  {
   "cell_type": "code",
   "execution_count": 13,
   "metadata": {
    "collapsed": true,
    "jupyter": {
     "outputs_hidden": true
    },
    "tags": []
   },
   "outputs": [
    {
     "name": "stdout",
     "output_type": "stream",
     "text": [
      "elma\n",
      "armut\n",
      "karpuz\n"
     ]
    }
   ],
   "source": [
    "L = [\"elma\",\"armut\",\"karpuz\"]\n",
    "i=0\n",
    "while i < len(L):\n",
    "    print(L[i])\n",
    "    i += 1"
   ]
  },
  {
   "cell_type": "markdown",
   "metadata": {},
   "source": [
    "SORU:14  1'den 10' a kadar olan sayıları while kullanarak ekrana yazdırınız.\n"
   ]
  },
  {
   "cell_type": "code",
   "execution_count": 14,
   "metadata": {
    "collapsed": true,
    "jupyter": {
     "outputs_hidden": true
    },
    "tags": []
   },
   "outputs": [
    {
     "name": "stdout",
     "output_type": "stream",
     "text": [
      "1 2 3 4 5 6 7 8 9 "
     ]
    }
   ],
   "source": [
    "a=1\n",
    "b=10\n",
    "while a<b:\n",
    "    print(a, end=\" \")\n",
    "    a += 1  "
   ]
  },
  {
   "cell_type": "markdown",
   "metadata": {},
   "source": [
    "SORU:15  Write a Python code that counts how many vowels and consonants a string has that a user entered."
   ]
  },
  {
   "cell_type": "code",
   "execution_count": 15,
   "metadata": {
    "collapsed": true,
    "jupyter": {
     "outputs_hidden": true
    },
    "tags": []
   },
   "outputs": [
    {
     "name": "stdin",
     "output_type": "stream",
     "text": [
      "Please enter a string :  asks who eager is \n"
     ]
    },
    {
     "name": "stdout",
     "output_type": "stream",
     "text": [
      "Your text has 6 vowels and 8 consonants\n"
     ]
    }
   ],
   "source": [
    "text = input(\"Please enter a string : \").lower()\n",
    "consonants = 0\n",
    "vowels = 0\n",
    "\n",
    "for i in range(len(text)):\n",
    "    if text[i] in set(\"aeıioöuü\"):\n",
    "        vowels += 1\n",
    "    elif text[i] in set(\"bcçdfgğhjklmnpqrsştvwxyz\"):\n",
    "        consonants += 1\n",
    "print(f\"Your text has {vowels} vowels and {consonants} consonants\")\n"
   ]
  },
  {
   "cell_type": "markdown",
   "metadata": {},
   "source": [
    "SORU:16  Print-return farkı"
   ]
  },
  {
   "cell_type": "code",
   "execution_count": 16,
   "metadata": {
    "tags": []
   },
   "outputs": [],
   "source": [
    "def add(a,b):\n",
    "    return(a+5, b+5)\n",
    "add(3,2)\n",
    "result=add(3,2)\n",
    "print(result)\n",
    "print(type(result))"
   ]
  },
  {
   "cell_type": "code",
   "execution_count": 16,
   "metadata": {
    "tags": []
   },
   "outputs": [
    {
     "name": "stdout",
     "output_type": "stream",
     "text": [
      "(8, 7)\n",
      "<class 'tuple'>\n"
     ]
    }
   ],
   "source": [
    "def add(a,b):\n",
    "    print(a+5, b+5)\n",
    "add(3,2)\n",
    "#result=add(3,2)\n",
    "#print(result)\n",
    "print(type(add(3,2)))"
   ]
  },
  {
   "cell_type": "markdown",
   "metadata": {},
   "source": [
    "SORU:17  *arg and **kwargs"
   ]
  },
  {
   "cell_type": "code",
   "execution_count": 17,
   "metadata": {
    "collapsed": true,
    "jupyter": {
     "outputs_hidden": true
    },
    "tags": []
   },
   "outputs": [],
   "source": [
    "#Python Basics Plus-Session-16-Joseph-14/07/20  saat: 1:50'de konu anlatımı\n",
    "#Using *args and **kwargs to call a function\n",
    "\n",
    "\n",
    "def myFun(arg1, arg2, arg3): \n",
    "    print(\"arg1:\", arg1) \n",
    "    print(\"arg2:\", arg2) \n",
    "    print(\"arg3:\", arg3) \n",
    "      \n",
    "# Now we can use *args or **kwargs to \n",
    "# pass arguments to this function :  \n",
    "args = [\"Geeks\", \"for\", \"Geeks\"] \n",
    "myFun(*args) \n",
    " "
   ]
  },
  {
   "cell_type": "code",
   "execution_count": 17,
   "metadata": {
    "collapsed": true,
    "jupyter": {
     "outputs_hidden": true
    },
    "tags": []
   },
   "outputs": [
    {
     "name": "stdout",
     "output_type": "stream",
     "text": [
      "arg1: Geeks\n",
      "arg2: for\n",
      "arg3: Geeks\n",
      "arg1: Geeks\n",
      "arg2: for\n",
      "arg3: Geeks\n"
     ]
    }
   ],
   "source": [
    " \n",
    "kwargs = {\"arg1\" : \"Geeks\", \"arg2\" : \"for\", \"arg3\" : \"Geeks\"} \n",
    "myFun(**kwargs)\n",
    "\n",
    "#Python Basics Plus-Session-16-Joseph-14/07/20  saat: 1:50'de konu anlatımı\n",
    "#Using *args and **kwargs to call a function\n",
    "\n",
    "\n",
    "def myFun(arg1, arg2='dummy1', arg3='dummy2'): \n",
    "    print(\"arg1:\", arg1) \n",
    "    print(\"arg2:\", arg2) \n",
    "    print(\"arg3:\", arg3) \n",
    "      \n",
    "# Now we can use *args or **kwargs to \n",
    "# pass arguments to this function :  \n",
    "args = [\"Geeks\", \"for\", \"Geeks\"] \n",
    "myFun(*args) \n",
    "  \n",
    "kwargs = {\"arg1\" : \"Geeks\", \"arg2\" : \"for\"} \n",
    "myFun(**kwargs)"
   ]
  },
  {
   "cell_type": "markdown",
   "metadata": {},
   "source": [
    "SORU:18  *arg and **kwargs"
   ]
  },
  {
   "cell_type": "code",
   "execution_count": 18,
   "metadata": {
    "tags": []
   },
   "outputs": [
    {
     "name": "stdout",
     "output_type": "stream",
     "text": [
      "args:  ('geeks', 'for', 'geeks', 'for')\n",
      "kwargs:  {'first': 'Geeks', 'mid': 'for', 'last': 'Geeks'}\n"
     ]
    }
   ],
   "source": [
    "#Using *args and **kwargs in same line to call a function\n",
    "\n",
    "def myFun(*args,**kwargs): \n",
    "    print(\"args: \", args) \n",
    "    print(\"kwargs: \", kwargs) \n",
    "  \n",
    "# Now we can use both *args ,**kwargs to pass arguments to this function : \n",
    "myFun('geeks','for','geeks', 'for',first=\"Geeks\",mid=\"for\",last=\"Geeks\") "
   ]
  },
  {
   "cell_type": "markdown",
   "metadata": {},
   "source": [
    "SORU:19  Define a function with 'arbitrary numbers of arguments' method named as ‘spec_opr(*numbers)' . This function sums all of the arguments after a process. \n",
    "This process is even numbers should be divided by 2 and odd numbers should be multiplied with 3 first and then added to the total sum. \n",
    "\n",
    "Examples:\n",
    "\n",
    "spec_opr(3, 2, 6) should return 13,\n",
    "\n",
    "spec_opr(58, 53, 10, -10, -40, -28, 8, 34, 70, -16, 33) should return 301,\n",
    "\n",
    "spec_opr(93, 12, 5, 84, -22) should return 331"
   ]
  },
  {
   "cell_type": "code",
   "execution_count": null,
   "metadata": {
    "tags": []
   },
   "outputs": [],
   "source": [
    "def spec_opr(*numbers):\n",
    "    total = 0\n",
    "    for number in numbers:\n",
    "        if number % 2 == 0:\n",
    "            total += number/2\n",
    "        else:\n",
    "            total += number*3\n",
    "    return int(total)\n",
    "spec_opr(3, 2, 6)\n",
    "#spec_opr(58, 53, 10, -10, -40, -28, 8, 34, 70, -16, 33)\n",
    "#spec_opr(93, 12, 5, 84, -22)\n"
   ]
  },
  {
   "cell_type": "markdown",
   "metadata": {},
   "source": [
    "SORU:20  Write a Python program to sort a list of tuples using Lambda."
   ]
  },
  {
   "cell_type": "code",
   "execution_count": 19,
   "metadata": {
    "collapsed": true,
    "jupyter": {
     "outputs_hidden": true
    },
    "tags": []
   },
   "outputs": [],
   "source": [
    "subject_marks = [('English', 88), ('Science', 90), ('Maths', 97), ('Social sciences', 82)]\n",
    "\n",
    "print(\"Original list of tuples:\")\n",
    "print(subject_marks)\n",
    "subject_marks.sort(key = lambda x: x[1])\n",
    "print(\"\\nSorting the List of Tuples:\")\n",
    "print(subject_marks)"
   ]
  },
  {
   "cell_type": "code",
   "execution_count": 19,
   "metadata": {
    "collapsed": true,
    "jupyter": {
     "outputs_hidden": true
    },
    "tags": []
   },
   "outputs": [
    {
     "name": "stdout",
     "output_type": "stream",
     "text": [
      "Original list of tuples:\n",
      "[('English', 88), ('Science', 90), ('Maths', 97), ('Social sciences', 82)]\n",
      "\n",
      "Sorting the List of Tuples:\n",
      "[('Social sciences', 82), ('English', 88), ('Science', 90), ('Maths', 97)]\n"
     ]
    }
   ],
   "source": [
    "subject_marks = [('English', 88), ('Science', 90), ('Maths', 97), ('Social sciences', 82)]\n",
    "\n",
    "print(\"Original list of tuples:\")\n",
    "print(subject_marks)\n",
    "subject_marks.sort(key = lambda x: x[1], reverse=True)\n",
    "print(\"\\nSorting the List of Tuples:\")\n",
    "print(subject_marks)"
   ]
  },
  {
   "cell_type": "markdown",
   "metadata": {},
   "source": [
    "SORU:21  Write a Python function that takes a list and returns a new list with unique elements of the first list."
   ]
  },
  {
   "cell_type": "code",
   "execution_count": 20,
   "metadata": {
    "collapsed": true,
    "jupyter": {
     "outputs_hidden": true
    },
    "tags": []
   },
   "outputs": [
    {
     "name": "stdout",
     "output_type": "stream",
     "text": [
      "[1, 2, 3, 4, 5]\n"
     ]
    }
   ],
   "source": [
    "def unique_list(l):\n",
    "    x = []\n",
    "    for a in l:\n",
    "        if a not in x:\n",
    "            x.append(a)\n",
    "    return x\n",
    "print(unique_list([1,2,3,3,3,3,4,5]))"
   ]
  },
  {
   "cell_type": "markdown",
   "metadata": {},
   "source": [
    "SORU:22  Write a Python program to filter a list of integers using Lambda."
   ]
  },
  {
   "cell_type": "code",
   "execution_count": 21,
   "metadata": {
    "collapsed": true,
    "jupyter": {
     "outputs_hidden": true
    },
    "tags": []
   },
   "outputs": [
    {
     "name": "stdout",
     "output_type": "stream",
     "text": [
      "Original list of integers:\n",
      "[1, 2, 3, 4, 5, 6, 7, 8, 9, 10]\n",
      "\n",
      "Even numbers from the said list:\n",
      "[2, 4, 6, 8, 10]\n",
      "\n",
      "Odd numbers from the said list:\n",
      "[1, 3, 5, 7, 9]\n"
     ]
    }
   ],
   "source": [
    "nums = [1, 2, 3, 4, 5, 6, 7, 8, 9, 10]\n",
    "\n",
    "print(\"Original list of integers:\")\n",
    "print(nums)\n",
    "\n",
    "print(\"\\nEven numbers from the said list:\")\n",
    "even_nums = list(filter(lambda x: x%2 == 0, nums))\n",
    "print(even_nums)\n",
    "\n",
    "print(\"\\nOdd numbers from the said list:\")\n",
    "odd_nums = list(filter(lambda x: x%2 != 0, nums))\n",
    "print(odd_nums)"
   ]
  },
  {
   "cell_type": "code",
   "execution_count": 24,
   "metadata": {},
   "outputs": [
    {
     "name": "stdout",
     "output_type": "stream",
     "text": [
      "{0: 'even', 1: 'odd', 2: 'even', 3: 'odd', 4: 'even', 5: 'odd', 6: 'even', 7: 'odd', 8: 'even', 9: 'odd', 10: 'even', 11: 'odd', 12: 'even', 13: 'odd', 14: 'even', 15: 'odd', 16: 'even', 17: 'odd', 18: 'even', 19: 'odd', 20: 'even', 21: 'odd', 22: 'even', 23: 'odd', 24: 'even', 25: 'odd', 26: 'even', 27: 'odd', 28: 'even', 29: 'odd', 30: 'even', 31: 'odd', 32: 'even', 33: 'odd', 34: 'even', 35: 'odd', 36: 'even', 37: 'odd', 38: 'even', 39: 'odd', 40: 'even', 41: 'odd', 42: 'even', 43: 'odd', 44: 'even', 45: 'odd', 46: 'even', 47: 'odd', 48: 'even', 49: 'odd', 50: 'even', 51: 'odd', 52: 'even', 53: 'odd', 54: 'even', 55: 'odd', 56: 'even', 57: 'odd', 58: 'even', 59: 'odd', 60: 'even', 61: 'odd', 62: 'even', 63: 'odd', 64: 'even', 65: 'odd', 66: 'even', 67: 'odd', 68: 'even', 69: 'odd', 70: 'even', 71: 'odd', 72: 'even', 73: 'odd', 74: 'even', 75: 'odd', 76: 'even', 77: 'odd', 78: 'even', 79: 'odd', 80: 'even', 81: 'odd', 82: 'even', 83: 'odd', 84: 'even', 85: 'odd', 86: 'even', 87: 'odd', 88: 'even', 89: 'odd', 90: 'even', 91: 'odd', 92: 'even', 93: 'odd', 94: 'even', 95: 'odd', 96: 'even', 97: 'odd', 98: 'even', 99: 'odd'}\n"
     ]
    }
   ],
   "source": [
    "a = list(map((lambda x : 'odd' if x % 2 != 0 else 'even'), list(range(100))))\n",
    "b = list(range(100))\n",
    "print(dict(zip(b,a)))"
   ]
  },
  {
   "cell_type": "code",
   "execution_count": null,
   "metadata": {},
   "outputs": [],
   "source": []
  }
 ],
 "metadata": {
  "kernelspec": {
   "display_name": "Python 3",
   "language": "python",
   "name": "python3"
  },
  "language_info": {
   "codemirror_mode": {
    "name": "ipython",
    "version": 3
   },
   "file_extension": ".py",
   "mimetype": "text/x-python",
   "name": "python",
   "nbconvert_exporter": "python",
   "pygments_lexer": "ipython3",
   "version": "3.7.6"
  }
 },
 "nbformat": 4,
 "nbformat_minor": 4
}
