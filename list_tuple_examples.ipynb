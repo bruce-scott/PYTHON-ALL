{
 "cells": [
  {
   "cell_type": "markdown",
   "metadata": {},
   "source": [
    "Create a Python list"
   ]
  },
  {
   "cell_type": "code",
   "execution_count": 2,
   "metadata": {
    "tags": []
   },
   "outputs": [
    {
     "output_type": "stream",
     "name": "stdout",
     "text": "age answer: False \nchronic answer: False \nimmune answer: False\nYou are not in the risky group\n"
    }
   ],
   "source": [
    "age = input(\"Are you cigaratte addict older than 75 years old? (Yes/No) \").title().strip() == \"Yes\"\n",
    "chronic = input(\"Do you have a severe chronic disease? : (Yes/No) \").title().strip() == \"Yes\"\n",
    "immune = input(\"Is your immune system too weak? : (Yes/No) \").title().strip() == \"Yes\"\n",
    "print(\"age answer:\", age, \"\\nchronic answer:\", chronic, \"\\nimmune answer:\", immune)\n",
    "if age or chronic or immune :\n",
    "    print(\"You are in the risky group\")\n",
    "else :\n",
    "    print(\"You are not in the risky group\")\n",
    "\n"
   ]
  },
  {
   "cell_type": "code",
   "execution_count": 4,
   "metadata": {},
   "outputs": [
    {
     "output_type": "error",
     "ename": "ValueError",
     "evalue": "invalid literal for int() with base 10: '-'",
     "traceback": [
      "\u001b[1;31m---------------------------------------------------------------------------\u001b[0m",
      "\u001b[1;31mValueError\u001b[0m                                Traceback (most recent call last)",
      "\u001b[1;32m<ipython-input-4-5828961ffae7>\u001b[0m in \u001b[0;36m<module>\u001b[1;34m\u001b[0m\n\u001b[0;32m      4\u001b[0m     \u001b[0msumm\u001b[0m \u001b[1;33m=\u001b[0m \u001b[1;36m0\u001b[0m\u001b[1;33m\u001b[0m\u001b[1;33m\u001b[0m\u001b[0m\n\u001b[0;32m      5\u001b[0m     \u001b[1;32mfor\u001b[0m \u001b[0mi\u001b[0m \u001b[1;32min\u001b[0m \u001b[0mnumber\u001b[0m\u001b[1;33m:\u001b[0m\u001b[1;33m\u001b[0m\u001b[1;33m\u001b[0m\u001b[0m\n\u001b[1;32m----> 6\u001b[1;33m         \u001b[0msumm\u001b[0m \u001b[1;33m+=\u001b[0m \u001b[0mint\u001b[0m\u001b[1;33m(\u001b[0m\u001b[0mi\u001b[0m\u001b[1;33m)\u001b[0m \u001b[1;33m**\u001b[0m \u001b[0mnumberofdigits\u001b[0m\u001b[1;33m\u001b[0m\u001b[1;33m\u001b[0m\u001b[0m\n\u001b[0m\u001b[0;32m      7\u001b[0m     \u001b[1;32mif\u001b[0m \u001b[0msumm\u001b[0m \u001b[1;33m==\u001b[0m \u001b[0mint\u001b[0m\u001b[1;33m(\u001b[0m\u001b[0mnumber\u001b[0m\u001b[1;33m)\u001b[0m\u001b[1;33m:\u001b[0m\u001b[1;33m\u001b[0m\u001b[1;33m\u001b[0m\u001b[0m\n\u001b[0;32m      8\u001b[0m         \u001b[0mprint\u001b[0m\u001b[1;33m(\u001b[0m\u001b[0mnumber\u001b[0m\u001b[1;33m,\u001b[0m \u001b[1;34m\"is a Amstrong number\"\u001b[0m\u001b[1;33m)\u001b[0m\u001b[1;33m\u001b[0m\u001b[1;33m\u001b[0m\u001b[0m\n",
      "\u001b[1;31mValueError\u001b[0m: invalid literal for int() with base 10: '-'"
     ]
    }
   ],
   "source": [
    "while True:\n",
    "    number = input(\"Enter a number: \") #407\n",
    "    numberofdigits = len(number)\n",
    "    summ = 0\n",
    "    if number == \"q\":\n",
    "        print(\"Good Bye\")\n",
    "        break\n",
    "    elif (\"-\" in number):\n",
    "        print(\"Please enter a positive number!\")\n",
    "        continue\n",
    "    elif (\".\" in number) or (\",\" in number):\n",
    "        print(\"Please enter an integer number\")\n",
    "        continue\n",
    "    elif (number.isdigit() != True):\n",
    "        print(\"Do not use any entries other than numeric values\")\n",
    "        continue\n",
    "    for i in number:\n",
    "        summ += int(i) ** numberofdigits\n",
    "    if summ == int(number):\n",
    "        print(number, \"is a Amstrong number\")\n",
    "    else:\n",
    "        print(number, \"is not a  Amstrong number\")"
   ]
  },
  {
   "cell_type": "code",
   "execution_count": null,
   "metadata": {},
   "outputs": [],
   "source": [
    "numbers = [10, 20, 30, 40, 50]\n",
    "names = [\"Sara\", \"David\", \"Warner\", \"Sandy\"]\n",
    "student_info = [\"Sara\", 1, \"Chemistry\"]"
   ]
  },
  {
   "cell_type": "code",
   "execution_count": null,
   "metadata": {
    "tags": []
   },
   "outputs": [],
   "source": [
    "color_list1 = [\"White\", \"Yellow\"]\n",
    "color_list2 = [\"Red\", \"Blue\"]\n",
    "color_list3 = [\"Green\", \"Black\"]\n",
    "color_list = color_list1 + color_list2 + color_list3\n",
    "print(color_list)"
   ]
  },
  {
   "cell_type": "code",
   "execution_count": null,
   "metadata": {
    "tags": []
   },
   "outputs": [],
   "source": [
    "number = [1,2,3]\n",
    "print(number[0]*4)"
   ]
  },
  {
   "cell_type": "code",
   "execution_count": null,
   "metadata": {},
   "outputs": [],
   "source": [
    "List indices"
   ]
  },
  {
   "cell_type": "code",
   "execution_count": null,
   "metadata": {},
   "outputs": [],
   "source": []
  },
  {
   "cell_type": "code",
   "execution_count": null,
   "metadata": {},
   "outputs": [],
   "source": [
    "color_list=[\"Red\", \"Blue\", \"Green\", \"Black\"]\n",
    "color_list[0]"
   ]
  },
  {
   "cell_type": "code",
   "execution_count": null,
   "metadata": {
    "tags": []
   },
   "outputs": [],
   "source": [
    "print(color_list[0],color_list[3]) # Print First and Last Elements"
   ]
  },
  {
   "cell_type": "code",
   "execution_count": null,
   "metadata": {},
   "outputs": [],
   "source": [
    "color_list[2]=\"Yellow\"\n"
   ]
  },
  {
   "cell_type": "code",
   "execution_count": null,
   "metadata": {
    "tags": []
   },
   "outputs": [],
   "source": [
    "print(color_list)"
   ]
  },
  {
   "cell_type": "markdown",
   "metadata": {},
   "source": [
    "List Slices"
   ]
  },
  {
   "cell_type": "code",
   "execution_count": null,
   "metadata": {},
   "outputs": [],
   "source": [
    "color_list.clear()"
   ]
  },
  {
   "cell_type": "code",
   "execution_count": null,
   "metadata": {
    "tags": []
   },
   "outputs": [],
   "source": [
    "print(color_list[1:-2])"
   ]
  },
  {
   "cell_type": "code",
   "execution_count": null,
   "metadata": {
    "tags": []
   },
   "outputs": [],
   "source": [
    "print(color_list[1:-1])"
   ]
  },
  {
   "cell_type": "code",
   "execution_count": null,
   "metadata": {
    "tags": []
   },
   "outputs": [],
   "source": [
    "print(color_list[:])"
   ]
  },
  {
   "cell_type": "code",
   "execution_count": null,
   "metadata": {
    "tags": []
   },
   "outputs": [],
   "source": [
    "print(color_list[:3])"
   ]
  },
  {
   "cell_type": "code",
   "execution_count": null,
   "metadata": {},
   "outputs": [],
   "source": [
    "color_list.pop(2)"
   ]
  },
  {
   "cell_type": "code",
   "execution_count": null,
   "metadata": {
    "tags": []
   },
   "outputs": [],
   "source": [
    "print(color_list)"
   ]
  },
  {
   "cell_type": "code",
   "execution_count": null,
   "metadata": {},
   "outputs": [],
   "source": [
    "color_list.index(\"Red\")\n"
   ]
  },
  {
   "cell_type": "code",
   "execution_count": null,
   "metadata": {},
   "outputs": [],
   "source": [
    "color_list.count(\"Blue\")"
   ]
  },
  {
   "cell_type": "code",
   "execution_count": null,
   "metadata": {
    "tags": []
   },
   "outputs": [],
   "source": [
    "color_list.sort()\n",
    "print(color_list)"
   ]
  },
  {
   "cell_type": "code",
   "execution_count": null,
   "metadata": {
    "tags": []
   },
   "outputs": [],
   "source": [
    "listx=[1, 5, 7, 3, 2, 4, 6]\n",
    "print(listx)\n",
    "[1, 5, 7, 3, 2, 4, 6]\n",
    "sublist=listx[2:7:2]\n",
    "print(sublist)\n",
    "sublist_1=listx[6:2:-2]\n",
    "print(sublist_1)"
   ]
  },
  {
   "cell_type": "code",
   "execution_count": null,
   "metadata": {
    "tags": []
   },
   "outputs": [],
   "source": [
    "listx=[5, 10, 3, 25, 7, 4, 15]\n",
    "print(listx)\n",
    "[5, 10, 3, 25, 7, 4, 15]\n",
    "print(max(listx))\t# the max() function of built-in allows to know the highest\n",
    "print(min(listx)) #the min() function of built-in allows to know the lowest\n"
   ]
  },
  {
   "cell_type": "code",
   "execution_count": null,
   "metadata": {
    "tags": []
   },
   "outputs": [],
   "source": [
    "listx1, listx2=[3, 5, 7, 9], [3, 5, 7, 9]\n",
    "print (listx1 == listx2)\n",
    "listx1, listx2=[9, 7, 5, 3], [3, 5, 7, 9]\t#create two lists equal, but unsorted.\n",
    "print(set(listx1) == set(listx2))\n"
   ]
  },
  {
   "cell_type": "markdown",
   "metadata": {},
   "source": [
    "Convert a list to a tuple in Python"
   ]
  },
  {
   "cell_type": "code",
   "execution_count": null,
   "metadata": {
    "tags": []
   },
   "outputs": [],
   "source": [
    "listx = [1, 2, 3, 4]  \n",
    "print(listx)    \n",
    "tuplex = tuple(listx)  \n",
    "print(tuplex)  "
   ]
  },
  {
   "cell_type": "code",
   "execution_count": null,
   "metadata": {
    "tags": []
   },
   "outputs": [],
   "source": [
    "listx = [[\"Hello\", \"World\"], [0, 1, 2, 3, 4, 5]]\n",
    "print(listx)\n",
    "[['Hello', 'World'], [0, 1, 2, 3, 4, 5]]\n",
    "listx = [[\"Hello\", \"World\"], [0, 1, 2, 3, 3, 5]]\n",
    "print(listx)\n",
    "[['Hello', 'World'], [0, 1, 2, 3, 3, 5]]\n",
    "print(listx[0][1])\t\t#The first [] indicates the index of the outer list.\n",
    "print(listx[1][3])"
   ]
  },
  {
   "cell_type": "code",
   "execution_count": null,
   "metadata": {
    "tags": []
   },
   "outputs": [],
   "source": [
    "listy = list(\"HELLO WORLD\")\n",
    "print(listy)"
   ]
  },
  {
   "cell_type": "markdown",
   "metadata": {},
   "source": [
    "TUPLES"
   ]
  },
  {
   "cell_type": "code",
   "execution_count": null,
   "metadata": {
    "tags": []
   },
   "outputs": [],
   "source": [
    "tuplex = ()\n",
    "print (tuplex)\n",
    "tuplex = ('tuple', False, 3.2, 1)\n",
    "print (tuplex)\n",
    "\n",
    "tuplex = 4, 7, 3, 8, 1 \n",
    "print (tuplex)\n",
    "\n",
    "tuplex = tuple()\n",
    "print (tuplex)\n",
    "\n",
    "\n",
    "tuplex = tuple([True, False]) \n",
    "print (tuplex)\n",
    "(True, False)"
   ]
  },
  {
   "cell_type": "code",
   "execution_count": null,
   "metadata": {
    "tags": []
   },
   "outputs": [],
   "source": [
    "tuplex = (\"w\", 3, \"r\", \"e\", \"s\", \"o\", \"u\", \"r\", \"c\", \"e\") \n",
    "print(tuplex)"
   ]
  },
  {
   "cell_type": "code",
   "execution_count": null,
   "metadata": {
    "tags": []
   },
   "outputs": [],
   "source": [
    "item = tuplex[3]\n",
    "print(item)"
   ]
  },
  {
   "cell_type": "code",
   "execution_count": null,
   "metadata": {
    "tags": []
   },
   "outputs": [],
   "source": [
    "listx = [5, 10, 7, 4, 15, 3]\n",
    "print(listx)"
   ]
  },
  {
   "cell_type": "code",
   "execution_count": null,
   "metadata": {
    "tags": []
   },
   "outputs": [],
   "source": [
    "tuplex = tuple(listx)\n",
    "print(tuplex)"
   ]
  },
  {
   "cell_type": "code",
   "execution_count": null,
   "metadata": {
    "tags": []
   },
   "outputs": [],
   "source": [
    "tuplex = (4, 6, 2, 8, 3, 1) \n",
    "tuplex = tuplex + (9,)\n",
    "print(tuplex)\n",
    "tuplex = tuplex[:5] + (15, 20, 25) + tuplex[:5]\n"
   ]
  },
  {
   "cell_type": "code",
   "execution_count": null,
   "metadata": {
    "tags": []
   },
   "outputs": [],
   "source": [
    "new = [\"a\", \"g\", \"b\", 1, 4, \"2\"]\n",
    "c= sorted(new)\n",
    "print(c)"
   ]
  },
  {
   "cell_type": "code",
   "execution_count": null,
   "metadata": {},
   "outputs": [],
   "source": []
  }
 ],
 "metadata": {
  "language_info": {
   "codemirror_mode": {
    "name": "ipython",
    "version": 3
   },
   "file_extension": ".py",
   "mimetype": "text/x-python",
   "name": "python",
   "nbconvert_exporter": "python",
   "pygments_lexer": "ipython3",
   "version": "3.8.2-final"
  },
  "orig_nbformat": 2,
  "kernelspec": {
   "name": "python3",
   "display_name": "Python 3"
  }
 },
 "nbformat": 4,
 "nbformat_minor": 2
}