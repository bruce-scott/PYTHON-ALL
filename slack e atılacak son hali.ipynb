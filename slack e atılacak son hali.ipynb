{
 "cells": [
  {
   "cell_type": "code",
   "execution_count": 1,
   "metadata": {},
   "outputs": [
    {
     "name": "stdout",
     "output_type": "stream",
     "text": [
      "Hello World!\n"
     ]
    }
   ],
   "source": [
    "text = 'Hello World!'\n",
    "print(text)"
   ]
  },
  {
   "cell_type": "code",
   "execution_count": 2,
   "metadata": {},
   "outputs": [
    {
     "name": "stdout",
     "output_type": "stream",
     "text": [
      "Hello World\n"
     ]
    }
   ],
   "source": [
    "print(\"Hello World\")"
   ]
  },
  {
   "cell_type": "code",
   "execution_count": 8,
   "metadata": {},
   "outputs": [
    {
     "name": "stdout",
     "output_type": "stream",
     "text": [
      "What is your name : Henry\n",
      "Hello Henry\n"
     ]
    }
   ],
   "source": [
    "Name = input('What is your name : ')\n",
    "print(\"Hello \"+Name)"
   ]
  },
  {
   "cell_type": "code",
   "execution_count": 4,
   "metadata": {},
   "outputs": [
    {
     "name": "stdout",
     "output_type": "stream",
     "text": [
      "hello my friends\n"
     ]
    }
   ],
   "source": [
    "txt = \"Hello my Friends\"              \n",
    "print(txt.lower())"
   ]
  },
  {
   "cell_type": "code",
   "execution_count": 3,
   "metadata": {},
   "outputs": [
    {
     "name": "stdout",
     "output_type": "stream",
     "text": [
      "HELLO MY FRIENDS\n"
     ]
    }
   ],
   "source": [
    "txt = \"Hello my Friends\"             \n",
    "print(txt.upper())"
   ]
  },
  {
   "cell_type": "code",
   "execution_count": 2,
   "metadata": {},
   "outputs": [
    {
     "name": "stdout",
     "output_type": "stream",
     "text": [
      "First number : 40\n",
      "Second number : 25\n",
      "Total :65.0 \n"
     ]
    }
   ],
   "source": [
    "Number1 = input('First number : ')\n",
    "Number2 = input('Second number : ')\n",
    "Total=float(Number1)+float(Number2)\n",
    "print(\"Total :{} \".format(Total))\n"
   ]
  },
  {
   "cell_type": "code",
   "execution_count": 3,
   "metadata": {},
   "outputs": [
    {
     "name": "stdout",
     "output_type": "stream",
     "text": [
      "First number : 15\n",
      "Second number : 21\n",
      "Average :18.0 \n"
     ]
    }
   ],
   "source": [
    "Number1 = input('First number : ')\n",
    "Number2 = input('Second number : ')\n",
    "average=(float(Number1)+float(Number2))/2\n",
    "print(\"Average :{0} \".format(average))\n"
   ]
  },
  {
   "cell_type": "code",
   "execution_count": 6,
   "metadata": {},
   "outputs": [
    {
     "name": "stdout",
     "output_type": "stream",
     "text": [
      "Exam point : 213\n",
      "Exam point : 11\n",
      "Average :71.6 \n"
     ]
    }
   ],
   "source": [
    "Exam1 = input('Exam point : ')\n",
    "Exam2 = input('Exam point : ')\n",
    "Average=(float(Exam1)*0.3)+(float(Exam2)*0.7)\n",
    "print(\"Average :{} \".format(Average))\n"
   ]
  },
  {
   "cell_type": "code",
   "execution_count": 24,
   "metadata": {},
   "outputs": [
    {
     "name": "stdout",
     "output_type": "stream",
     "text": [
      "www.atlassian.com\n"
     ]
    }
   ],
   "source": [
    "print(\"www\",\"atlassian\",\"com\", sep=(\".\"))   # \\n ifadesi sep parametresinde de oluyor dene"
   ]
  },
  {
   "cell_type": "code",
   "execution_count": 5,
   "metadata": {},
   "outputs": [
    {
     "name": "stdout",
     "output_type": "stream",
     "text": [
      "C l a r u s w a y\n"
     ]
    }
   ],
   "source": [
    "print(*\"Clarusway\") "
   ]
  },
  {
   "cell_type": "code",
   "execution_count": 6,
   "metadata": {},
   "outputs": [
    {
     "name": "stdout",
     "output_type": "stream",
     "text": [
      "C,l,a,r,u,s,w,a,y\n"
     ]
    }
   ],
   "source": [
    "print(*\"Clarusway\",sep=\",\")"
   ]
  },
  {
   "cell_type": "code",
   "execution_count": 7,
   "metadata": {},
   "outputs": [
    {
     "name": "stdout",
     "output_type": "stream",
     "text": [
      "Ortalamanızı Girin : 16\n",
      "Kaldınız\n"
     ]
    }
   ],
   "source": [
    "ort = input('Ortalamanızı Girin : ')\n",
    "if(int(ort)>=50):\n",
    "      print(\"Geçtiniz\")\n",
    "else:\n",
    "      print(\"Kaldınız\")"
   ]
  },
  {
   "cell_type": "code",
   "execution_count": 8,
   "metadata": {},
   "outputs": [
    {
     "name": "stdout",
     "output_type": "stream",
     "text": [
      "Yaşınız : 12\n",
      "Yaşınız Ehliyet almak İçin Uygun Değil\n"
     ]
    }
   ],
   "source": [
    "yas = input('Yaşınız : ')\n",
    "if(int(yas)<18):\n",
    "      print(\"Yaşınız Ehliyet almak İçin Uygun Değil\")\n",
    "else:\n",
    "      print(\"Yaşınız Ehliyet almak İçin Uygun\")"
   ]
  },
  {
   "cell_type": "code",
   "execution_count": 9,
   "metadata": {},
   "outputs": [
    {
     "name": "stdout",
     "output_type": "stream",
     "text": [
      "Number : 15\n",
      "odd number\n"
     ]
    }
   ],
   "source": [
    "Number = input('Number : ')\n",
    "if(int(Number)%2==0):\n",
    "      print(\"even number\")   \n",
    "else:\n",
    "      print(\"odd number\")    \n",
    "     "
   ]
  },
  {
   "cell_type": "code",
   "execution_count": 32,
   "metadata": {},
   "outputs": [
    {
     "name": "stdout",
     "output_type": "stream",
     "text": [
      "Number : 6\n",
      "Number pozitive\n"
     ]
    }
   ],
   "source": [
    "Number = input('Number : ')\n",
    "if(int(Number)<0):\n",
    "      print(\"Number negative\")\n",
    "elif(int(Number)>0):\n",
    "      print(\"Number pozitive\")\n",
    "else:\n",
    "      print(\"zero\")"
   ]
  },
  {
   "cell_type": "code",
   "execution_count": 11,
   "metadata": {},
   "outputs": [
    {
     "name": "stdout",
     "output_type": "stream",
     "text": [
      "1\n",
      "2\n",
      "3\n",
      "4\n",
      "5\n",
      "6\n"
     ]
    }
   ],
   "source": [
    "for i in range(1,7):\n",
    "        print(i)"
   ]
  },
  {
   "cell_type": "code",
   "execution_count": 12,
   "metadata": {},
   "outputs": [
    {
     "name": "stdout",
     "output_type": "stream",
     "text": [
      "2\n",
      "4\n",
      "6\n",
      "8\n"
     ]
    }
   ],
   "source": [
    "for i in range(1,10):\n",
    "    if i %2==0:\n",
    "        print(i)\n",
    "      "
   ]
  },
  {
   "cell_type": "code",
   "execution_count": 14,
   "metadata": {},
   "outputs": [
    {
     "name": "stdout",
     "output_type": "stream",
     "text": [
      "3\n",
      "5\n",
      "6\n",
      "9\n",
      "10\n",
      "12\n"
     ]
    }
   ],
   "source": [
    "for i in range(1,15):\n",
    "    if i%3==0 or i%5==0:\n",
    "        print(i)\n",
    "        #or yerine and de konulabilir."
   ]
  },
  {
   "cell_type": "code",
   "execution_count": 16,
   "metadata": {},
   "outputs": [
    {
     "name": "stdout",
     "output_type": "stream",
     "text": [
      "Sayıyı Gir : 7\n",
      "1\n",
      "2\n",
      "3\n",
      "4\n",
      "5\n",
      "6\n",
      "7\n"
     ]
    }
   ],
   "source": [
    "Number = input('Sayıyı Gir : ')\n",
    "for a in range(1,int(Number)+1):\n",
    "        print(a)"
   ]
  },
  {
   "cell_type": "code",
   "execution_count": 17,
   "metadata": {
    "scrolled": true
   },
   "outputs": [
    {
     "name": "stdout",
     "output_type": "stream",
     "text": [
      "Kısa Kenar : 45\n",
      "Uzun Kenar : 26\n",
      "Alan : 1170\n",
      "Çevre : 142\n"
     ]
    }
   ],
   "source": [
    "kisa=input('Kısa Kenar : ')\n",
    "uzun=input('Uzun Kenar : ')\n",
    "alan=int(kisa)*int(uzun)\n",
    "cevre=2*(int(kisa)+int(uzun))\n",
    "print(\"Alan : {}\".format(alan))\n",
    "print(\"Çevre : {}\".format(cevre))"
   ]
  },
  {
   "cell_type": "code",
   "execution_count": 28,
   "metadata": {},
   "outputs": [
    {
     "name": "stdout",
     "output_type": "stream",
     "text": [
      "[156, 48, 12, 35, 58]\n"
     ]
    }
   ],
   "source": [
    "list1 = [156, 48, 12, 35]\n",
    "list2 = list1.append(58)\n",
    "print(list1)"
   ]
  },
  {
   "cell_type": "code",
   "execution_count": 3,
   "metadata": {},
   "outputs": [
    {
     "data": {
      "text/plain": [
       "3"
      ]
     },
     "execution_count": 3,
     "metadata": {},
     "output_type": "execute_result"
    }
   ],
   "source": [
    "list1 = [156, [48, [12, 3, 5], 0]]\n",
    "list1[1][1][1]  "
   ]
  },
  {
   "cell_type": "code",
   "execution_count": 7,
   "metadata": {},
   "outputs": [
    {
     "name": "stdout",
     "output_type": "stream",
     "text": [
      "6\n",
      "[3, 12, 19, 30, 42, 59]\n",
      "[59, 42, 30, 19, 12, 3]\n",
      "[59, 42, 30, 19, 12, 3, 36]\n",
      "[3, 12, 19, 30, 36, 42, 59]\n"
     ]
    }
   ],
   "source": [
    "number = [3, 42, 12, 19, 30, 59]\n",
    "len(number)\n",
    "print(len(number))\n",
    "number.sort()    \n",
    "print(number)\n",
    "number.reverse()      \n",
    "print(number)\n",
    "number.append(36)     \n",
    "print(number)\n",
    "number.sort()    \n",
    "print(number)\n"
   ]
  },
  {
   "cell_type": "code",
   "execution_count": 26,
   "metadata": {},
   "outputs": [
    {
     "name": "stdout",
     "output_type": "stream",
     "text": [
      "Bartu\n",
      "Hasan Efe\n",
      "Elif\n",
      "Kerem\n",
      "Ece\n"
     ]
    }
   ],
   "source": [
    "ogrenciler = [\"Bartu\", \"Hasan Efe\", \"Elif\", \"Kerem\", \"Ece\"]\n",
    "\n",
    "for ogrenci in ogrenciler:\n",
    "\tprint(ogrenci) "
   ]
  },
  {
   "cell_type": "code",
   "execution_count": 107,
   "metadata": {
    "scrolled": true
   },
   "outputs": [
    {
     "name": "stdout",
     "output_type": "stream",
     "text": [
      "1\n",
      "4\n",
      "7\n",
      "10\n",
      "13\n",
      "16\n",
      "19\n"
     ]
    }
   ],
   "source": [
    "for sayi in range(1,20,3):\n",
    "    print(sayi)          "
   ]
  },
  {
   "cell_type": "code",
   "execution_count": 108,
   "metadata": {},
   "outputs": [
    {
     "name": "stdout",
     "output_type": "stream",
     "text": [
      "19\n",
      "16\n",
      "13\n",
      "10\n",
      "7\n",
      "4\n"
     ]
    }
   ],
   "source": [
    "for sayi in range(19,1,-3):\n",
    "    print(sayi)"
   ]
  },
  {
   "cell_type": "code",
   "execution_count": 27,
   "metadata": {},
   "outputs": [
    {
     "data": {
      "text/plain": [
       "-77"
      ]
     },
     "execution_count": 27,
     "metadata": {},
     "output_type": "execute_result"
    }
   ],
   "source": [
    "numbers = [1, 2, 88, 3, 77, 9, 33, 3, 7, -4, 3, 1, -77, 12, 3]\n",
    "\n",
    "item = min(numbers)\n",
    "\n",
    "item"
   ]
  },
  {
   "cell_type": "code",
   "execution_count": 26,
   "metadata": {},
   "outputs": [
    {
     "data": {
      "text/plain": [
       "88"
      ]
     },
     "execution_count": 26,
     "metadata": {},
     "output_type": "execute_result"
    }
   ],
   "source": [
    "numbers = [1, 2, 88, 3, 77, 9, 33, 3, 7, -4, 3, 1, -77, 12, 3]\n",
    "\n",
    "item = max(numbers)\n",
    "\n",
    "item"
   ]
  },
  {
   "cell_type": "code",
   "execution_count": 36,
   "metadata": {},
   "outputs": [
    {
     "data": {
      "text/plain": [
       "3"
      ]
     },
     "execution_count": 36,
     "metadata": {},
     "output_type": "execute_result"
    }
   ],
   "source": [
    "numbers = [1, 2, 88, 3, 77, 9, 33, 3, 7, -4, 3, 1, -77, 12, 3]\n",
    "\n",
    "item = max(numbers, key = numbers.count)\n",
    "\n",
    "item"
   ]
  },
  {
   "cell_type": "code",
   "execution_count": 34,
   "metadata": {},
   "outputs": [
    {
     "name": "stdout",
     "output_type": "stream",
     "text": [
      "the most frequent number is 3 and it is 4 times repeated\n"
     ]
    }
   ],
   "source": [
    "numbers = [1, 2, 88, 3, 77, 9, 33, 3, 7, -4, 3, 1, -77, 12, 3]\n",
    "\n",
    "item = max(numbers, key = numbers.count)\n",
    "\n",
    "repetition = numbers.count(item)\n",
    "\n",
    "print(\"the most frequent number is {} and it is {} times repeated\".format(item, repetition))"
   ]
  },
  {
   "cell_type": "code",
   "execution_count": 37,
   "metadata": {},
   "outputs": [
    {
     "name": "stdout",
     "output_type": "stream",
     "text": [
      "7.0\n"
     ]
    }
   ],
   "source": [
    "number_list = [12, 3, 10, 2, 8]\n",
    "\n",
    "print(sum(number_list)/len(number_list))          #sum öge toplamı demektir."
   ]
  },
  {
   "cell_type": "code",
   "execution_count": 35,
   "metadata": {},
   "outputs": [
    {
     "name": "stdout",
     "output_type": "stream",
     "text": [
      "7.0\n"
     ]
    }
   ],
   "source": [
    "number_list = [12, 3, 10, 2, 8]\n",
    "\n",
    "toplam = 0\n",
    "\n",
    "for i in number_list:\n",
    "    toplam = i + toplam\n",
    "    \n",
    "print(toplam/len(number_list))    "
   ]
  },
  {
   "cell_type": "code",
   "execution_count": 23,
   "metadata": {},
   "outputs": [
    {
     "name": "stdout",
     "output_type": "stream",
     "text": [
      "3.0\n"
     ]
    }
   ],
   "source": [
    "number_list = [1, 3, 7, 4, 3, 0, 3, 6, -6, 9]\n",
    "    \n",
    "toplam = 0\n",
    "\n",
    "for i in number_list:\n",
    "    toplam = i + toplam\n",
    "    \n",
    "print(toplam/len(number_list)) "
   ]
  },
  {
   "cell_type": "code",
   "execution_count": 22,
   "metadata": {},
   "outputs": [
    {
     "data": {
      "text/plain": [
       "55"
      ]
     },
     "execution_count": 22,
     "metadata": {},
     "output_type": "execute_result"
    }
   ],
   "source": [
    "toplam1 = 0\n",
    "\n",
    "for i in range(1,11):\n",
    "    toplam1 += i\n",
    "    \n",
    "toplam1"
   ]
  },
  {
   "cell_type": "code",
   "execution_count": null,
   "metadata": {},
   "outputs": [],
   "source": [
    "Create a function that takes two parameters and, if both parameters are strings, add them as if \n",
    "they were integers or if the two parameters are integers, concatenate them.\n",
    "Examples\n",
    "stupid_addition(1, 2) ➞ \"12\"\n",
    "stupid_addition(\"1\", \"2\") ➞ 3\n",
    "stupid_addition(\"1\", 2) ➞ None"
   ]
  },
  {
   "cell_type": "code",
   "execution_count": 6,
   "metadata": {},
   "outputs": [
    {
     "name": "stdout",
     "output_type": "stream",
     "text": [
      "None\n"
     ]
    }
   ],
   "source": [
    "a = 1\n",
    "b = \"2\"  \n",
    "if type(a)==int and type(b) ==int:\n",
    "    print(str(a)+str(b))\n",
    "elif type(a)==str and type(b) ==str:     \n",
    "    print(int(a)+int(b))                \n",
    "else:                                   \n",
    "    print(None)"
   ]
  },
  {
   "cell_type": "code",
   "execution_count": null,
   "metadata": {},
   "outputs": [],
   "source": [
    "a = 1\n",
    "b = \"2\"  \n",
    "if type(a)==int and type(b) ==int:\n",
    "    print(str(a)+str(b))\n",
    "elif type(a)==str and type(b) ==str:     \n",
    "    print(int(a)+int(b))                 \n",
    "else:                                   \n",
    "    print(None)"
   ]
  },
  {
   "cell_type": "code",
   "execution_count": null,
   "metadata": {},
   "outputs": [],
   "source": [
    "Two Distinct Elements\n",
    "In each input list, every number repeats at least once, except for two.\n",
    "Write a function that returns the two unique numbers.\n",
    "Examples\n",
    "lst = ([1, 9, 8, 8, 7, 6, 1, 6]) ➞ [9, 7]\n",
    "lst = ([5, 5, 2, 4, 4, 4, 9, 9, 9, 1]) ➞ [2, 1]\n",
    "lst = ([9, 5, 6, 8, 7, 7, 1, 1, 1, 1, 1, 9, 8]) ➞ [5, 6]"
   ]
  },
  {
   "cell_type": "code",
   "execution_count": 24,
   "metadata": {},
   "outputs": [
    {
     "name": "stdout",
     "output_type": "stream",
     "text": [
      "[9, 7]\n"
     ]
    }
   ],
   "source": [
    "lst = [1, 9, 8, 8, 7, 6, 1, 6]\n",
    "result = []\n",
    "for i in lst:\n",
    "    if lst.count(i) < 2:\n",
    "        result.append(i)\n",
    "print(result)"
   ]
  },
  {
   "cell_type": "code",
   "execution_count": 52,
   "metadata": {},
   "outputs": [
    {
     "name": "stdout",
     "output_type": "stream",
     "text": [
      "Vize Notu : 60\n",
      "Final Notu : 85\n",
      "Harf notunuz : BA\n"
     ]
    }
   ],
   "source": [
    "\n",
    "vize = int(input(\"Vize Notu : \"))\n",
    " \n",
    "final = int(input(\"Final Notu : \"))\n",
    "    \n",
    "ortalama = (vize * 0.4) + (final * 0.6)  # vizenin %40 final %60 olarak alındı\n",
    " \n",
    "if (ortalama >= 85):\n",
    " \n",
    "   print(\"Harf notunuz : AA\")\n",
    " \n",
    "elif(ortalama >= 70 and ortalama < 85):\n",
    " \n",
    "   print(\"Harf notunuz : BA\")\n",
    " \n",
    "elif(ortalama >= 60 and ortalama < 70):\n",
    " \n",
    "   print(\"Harf notunuz : BB\")\n",
    " \n",
    "elif(ortalama >= 45 and ortalama < 60):\n",
    " \n",
    "   print(\"Harf notunuz : CB\")\n",
    " \n",
    "elif(ortalama >= 0 and ortalama < 45):\n",
    " \n",
    "   print(\"Harf notunuz : FF\")"
   ]
  },
  {
   "cell_type": "code",
   "execution_count": 1,
   "metadata": {},
   "outputs": [
    {
     "name": "stdout",
     "output_type": "stream",
     "text": [
      "Hangi meyveyi istiyorsun? elma\n",
      "Hangi renk elma istiyorsun? sarı\n",
      "Kaç kilo sarı elma istiyorsun? 5\n",
      "10 tl ücret ödeyeceksiniz.\n"
     ]
    }
   ],
   "source": [
    "meyve = input(\"Hangi meyveyi istiyorsun? \")\n",
    "\n",
    "if meyve ==(\"muz\"):\n",
    "     kilo = int(input(\"Kaç kilo muz istiyorsun?\"))\n",
    "     print(kilo*5,\"tl ücret ödeyeceksiniz.\")\n",
    "\n",
    "elif meyve ==(\"elma\"):\n",
    "     renk = input(\"Hangi renk elma istiyorsun? \")\n",
    "     if renk == (\"kırmızı\"):\n",
    "         kilo = int(input(\"Kaç kilo kırmızı elma istiyorsun? \"))\n",
    "     elif renk ==(\"sarı\"):\n",
    "         kilo = int(input(\"Kaç kilo sarı elma istiyorsun? \"))\n",
    "     elif renk ==(\"yeşil\"):\n",
    "         kilo = int(input(\"Kaç kilo yeşil elma istiyorsun? \"))\n",
    "     else:\n",
    "         print(\"Sadece sarı, kırmızı ya da yeşil renk elma var. \")\n",
    "\n",
    "     print(kilo*2,\"tl ücret ödeyeceksiniz.\")\n",
    "\n",
    "elif meyve == (\"üzüm\"):\n",
    "     renk = input(\"Hangi renk üzüm istiyorsun? \")\n",
    "     if renk == (\"mor\"):\n",
    "        kilo = int(input(\"Kaç kilo mor üzüm istiyorsun? \"))\n",
    "        print(kilo*3,\"tl ücret ödeyeceksiniz.\")\n",
    "     elif renk ==(\"yeşil\"):\n",
    "        kilo = int(input(\"Kaç kilo yeşil üzüm istiyorsun? \"))\n",
    "        print(kilo*3.5,\"tl ücret ödeyeceksiniz. \")\n",
    "     else:\n",
    "       print(\"Sadece mor ya da yeşil renk üzüm var. \")\n",
    "        \n",
    "else:\n",
    "     print(\"Manavda sadece muz, elma ve üzüm var. \")"
   ]
  },
  {
   "cell_type": "code",
   "execution_count": 18,
   "metadata": {},
   "outputs": [
    {
     "name": "stdout",
     "output_type": "stream",
     "text": [
      "15\n"
     ]
    }
   ],
   "source": [
    "a = (1, 2, 3, 4, 5)\n",
    "print(sum(a))"
   ]
  },
  {
   "cell_type": "code",
   "execution_count": 21,
   "metadata": {},
   "outputs": [
    {
     "name": "stdout",
     "output_type": "stream",
     "text": [
      "35\n"
     ]
    }
   ],
   "source": [
    "number_list = [12, 3, 10, 2, 8]\n",
    "\n",
    "print(sum(number_list))  "
   ]
  }
 ],
 "metadata": {
  "kernelspec": {
   "display_name": "Python 3",
   "language": "python",
   "name": "python3"
  },
  "language_info": {
   "codemirror_mode": {
    "name": "ipython",
    "version": 3
   },
   "file_extension": ".py",
   "mimetype": "text/x-python",
   "name": "python",
   "nbconvert_exporter": "python",
   "pygments_lexer": "ipython3",
   "version": "3.7.6"
  }
 },
 "nbformat": 4,
 "nbformat_minor": 4
}
