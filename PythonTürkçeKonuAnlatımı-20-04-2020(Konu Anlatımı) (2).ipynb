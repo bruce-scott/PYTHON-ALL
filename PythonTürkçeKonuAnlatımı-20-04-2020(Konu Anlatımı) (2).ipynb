{
 "cells": [
  {
   "cell_type": "markdown",
   "metadata": {},
   "source": [
    "># 20 Nisan 2020 Türkçe Python Dersi"
   ]
  },
  {
   "cell_type": "code",
   "execution_count": 1,
   "metadata": {},
   "outputs": [
    {
     "name": "stdout",
     "output_type": "stream",
     "text": [
      "What is your name ? : joseph\n",
      "Hello, Joseph! The password id : @12\n"
     ]
    }
   ],
   "source": [
    "name = input(\"What is your name ? : \").title()\n",
    "\n",
    "if name == \"Joseph\" :\n",
    "    message = \"Hello, {name1}! The password id : @12\".format(name1=name)\n",
    "else:\n",
    "    message = \"Hello, {name1}! See you later.\".format(name1=name)\n",
    "\n",
    "print(message)"
   ]
  },
  {
   "cell_type": "code",
   "execution_count": 2,
   "metadata": {},
   "outputs": [
    {
     "name": "stdout",
     "output_type": "stream",
     "text": [
      "Are you cigaratte addict older than 75 years old? (Yes/No)no\n",
      "Do you have a severe chronic disease? : (Yes/No)no\n",
      "Is your immune system too weak? : (Yes/No)no\n",
      "age answer: False \n",
      "chronic answer: False \n",
      "immune answer: False\n",
      "You are not in the risky group\n"
     ]
    }
   ],
   "source": [
    "age = input(\"Are you cigaratte addict older than 75 years old? (Yes/No)\").title().strip() == \"Yes\"\n",
    "\n",
    "chronic = input(\"Do you have a severe chronic disease? : (Yes/No)\").title().strip() == \"Yes\"\n",
    "\n",
    "immune = input(\"Is your immune system too weak? : (Yes/No)\").title().strip() == \"Yes\"\n",
    "\n",
    "print(\"age answer:\", age, \"\\nchronic answer:\", chronic, \"\\nimmune answer:\", immune)\n",
    "\n",
    "if age or chronic or immune :\n",
    "    print(\"You are in the risky group\")\n",
    "else :\n",
    "    print(\"You are not in the risky group\")"
   ]
  },
  {
   "cell_type": "code",
   "execution_count": 3,
   "metadata": {},
   "outputs": [
    {
     "name": "stdout",
     "output_type": "stream",
     "text": [
      "1\n"
     ]
    }
   ],
   "source": [
    "condition = True\n",
    "\n",
    "if condition:\n",
    "    x = 1\n",
    "else:\n",
    "    x = 0\n",
    "print(x)"
   ]
  },
  {
   "cell_type": "code",
   "execution_count": 4,
   "metadata": {},
   "outputs": [
    {
     "name": "stdout",
     "output_type": "stream",
     "text": [
      "1\n"
     ]
    }
   ],
   "source": [
    "x = 1 if condition else 0\n",
    "\n",
    "print(x)"
   ]
  },
  {
   "cell_type": "code",
   "execution_count": 5,
   "metadata": {},
   "outputs": [
    {
     "name": "stdout",
     "output_type": "stream",
     "text": [
      "[0, 1, 4, 9, 16]\n"
     ]
    }
   ],
   "source": [
    "my_list = []\n",
    "\n",
    "for i in range(5):\n",
    "    my_list.append(i**2)\n",
    "\n",
    "print(my_list)"
   ]
  },
  {
   "cell_type": "code",
   "execution_count": 6,
   "metadata": {},
   "outputs": [
    {
     "name": "stdout",
     "output_type": "stream",
     "text": [
      "[0, 1, 4, 9, 16]\n"
     ]
    }
   ],
   "source": [
    "my_list_2 = [i**2 for i in range(5)]\n",
    "\n",
    "print(my_list_2)"
   ]
  },
  {
   "cell_type": "code",
   "execution_count": 7,
   "metadata": {},
   "outputs": [
    {
     "name": "stdout",
     "output_type": "stream",
     "text": [
      "10100000000\n",
      "10,100,000,000\n"
     ]
    }
   ],
   "source": [
    "no1 = 10_000_000_000\n",
    "no2 = 100_000_000\n",
    "\n",
    "adding = no1 + no2\n",
    "#10,100,000,000\n",
    "print(adding)\n",
    "print(f\"{adding:,}\")"
   ]
  },
  {
   "cell_type": "code",
   "execution_count": 8,
   "metadata": {},
   "outputs": [
    {
     "name": "stdout",
     "output_type": "stream",
     "text": [
      "(10, 20)\n"
     ]
    }
   ],
   "source": [
    "items = (10, 20)\n",
    "\n",
    "print(items)"
   ]
  },
  {
   "cell_type": "code",
   "execution_count": 9,
   "metadata": {},
   "outputs": [
    {
     "name": "stdout",
     "output_type": "stream",
     "text": [
      "10\n",
      "20\n"
     ]
    }
   ],
   "source": [
    "x, y = (10, 20)\n",
    "\n",
    "print(x)\n",
    "print(y)"
   ]
  },
  {
   "cell_type": "code",
   "execution_count": 10,
   "metadata": {},
   "outputs": [
    {
     "name": "stdout",
     "output_type": "stream",
     "text": [
      "10\n",
      "30\n"
     ]
    }
   ],
   "source": [
    "a, _, b, _ = (10, 20, 30, 40)\n",
    "\n",
    "print(a)\n",
    "print(b)"
   ]
  },
  {
   "cell_type": "code",
   "execution_count": 11,
   "metadata": {},
   "outputs": [
    {
     "name": "stdout",
     "output_type": "stream",
     "text": [
      "11\n",
      "22\n",
      "77\n",
      "[33, 44, 55, 66]\n"
     ]
    }
   ],
   "source": [
    "x, y, *_, t = (11, 22, 33, 44, 55, 66, 77)\n",
    "\n",
    "print(x)\n",
    "print(y)\n",
    "print(t)\n",
    "print(_)"
   ]
  },
  {
   "cell_type": "code",
   "execution_count": 12,
   "metadata": {},
   "outputs": [
    {
     "name": "stdout",
     "output_type": "stream",
     "text": [
      "c l a r u s w a y\n"
     ]
    }
   ],
   "source": [
    "print(*\"clarusway\")"
   ]
  },
  {
   "cell_type": "code",
   "execution_count": 13,
   "metadata": {},
   "outputs": [
    {
     "name": "stdout",
     "output_type": "stream",
     "text": [
      "1 bulbul\n",
      "2 anka\n",
      "3 serce\n",
      "4 kartal\n"
     ]
    }
   ],
   "source": [
    "birds_Tr = [\"bulbul\", \"anka\", \"serce\", \"kartal\"]\n",
    "\n",
    "index = 1\n",
    "\n",
    "for bird in birds_Tr:\n",
    "    print(index, bird)\n",
    "    index = index + 1"
   ]
  },
  {
   "cell_type": "code",
   "execution_count": 14,
   "metadata": {},
   "outputs": [
    {
     "name": "stdout",
     "output_type": "stream",
     "text": [
      "1 bulbul\n",
      "2 anka\n",
      "3 serce\n",
      "4 kartal\n"
     ]
    }
   ],
   "source": [
    "for index, bird in enumerate(birds_Tr, start=1):\n",
    "    print(index, bird)"
   ]
  },
  {
   "cell_type": "code",
   "execution_count": 15,
   "metadata": {},
   "outputs": [
    {
     "name": "stdout",
     "output_type": "stream",
     "text": [
      "Capital of Turkey is Ankara\n",
      "Capital of Iraq is Bagdat\n",
      "Capital of Pakistan is Islamabad\n",
      "Capital of ABD is Washington\n"
     ]
    }
   ],
   "source": [
    "countries = [\"Turkey\", \"Iraq\", \"Pakistan\", \"ABD\"]\n",
    "capitals = [\"Ankara\", \"Bagdat\", \"Islamabad\", \"Washington\"]\n",
    "\n",
    "for index, country in enumerate(countries):\n",
    "    capital = capitals[index]\n",
    "    print(f\"Capital of {country} is {capital}\")\n",
    "    \n",
    "\n",
    "#Capital of Turkey is Ankara\n",
    "#Capital of Iraq is Bagdat"
   ]
  },
  {
   "cell_type": "code",
   "execution_count": 16,
   "metadata": {},
   "outputs": [
    {
     "name": "stdout",
     "output_type": "stream",
     "text": [
      "('Turkey', 'Ankara', 'Europe')\n",
      "('Iraq', 'Bagdat', 'Asia')\n",
      "('Pakistan', 'Islamabad', 'Asia')\n",
      "('ABD', 'Washington', 'N.America')\n"
     ]
    }
   ],
   "source": [
    "countries = [\"Turkey\", \"Iraq\", \"Pakistan\", \"ABD\"]\n",
    "capitals = [\"Ankara\", \"Bagdat\", \"Islamabad\", \"Washington\"]\n",
    "continents = [\"Europe\", \"Asia\", \"Asia\", \"N.America\"]\n",
    "\n",
    "for values in zip(countries, capitals, continents):\n",
    "    print(values)"
   ]
  },
  {
   "cell_type": "code",
   "execution_count": null,
   "metadata": {},
   "outputs": [],
   "source": []
  }
 ],
 "metadata": {
  "file_extension": ".py",
  "kernelspec": {
   "display_name": "Python 3",
   "language": "python",
   "name": "python3"
  },
  "language_info": {
   "codemirror_mode": {
    "name": "ipython",
    "version": 3
   },
   "file_extension": ".py",
   "mimetype": "text/x-python",
   "name": "python",
   "nbconvert_exporter": "python",
   "pygments_lexer": "ipython3",
   "version": "3.7.3"
  },
  "mimetype": "text/x-python",
  "name": "python",
  "npconvert_exporter": "python",
  "pygments_lexer": "ipython3",
  "version": 3
 },
 "nbformat": 4,
 "nbformat_minor": 2
}
